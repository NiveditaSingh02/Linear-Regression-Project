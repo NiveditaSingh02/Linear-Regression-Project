{
 "cells": [
  {
   "cell_type": "markdown",
   "id": "0436621b",
   "metadata": {},
   "source": [
    "# Sales forecasting"
   ]
  },
  {
   "cell_type": "markdown",
   "id": "05a72717",
   "metadata": {},
   "source": [
    "## Understand the data very well. Do all transformations / data engineering / etc. wherever applicable"
   ]
  },
  {
   "cell_type": "markdown",
   "id": "9cd1aa21",
   "metadata": {},
   "source": [
    "###\n",
    "* Perform Exploratory Data Analysis (EDA)\n",
    "\n",
    "* Carry out all the Data mining tasks\n",
    "\n",
    "* Identify the salient features that will determine the best results\n",
    "\n",
    "* Perform the model evaluation to select the best algorithms"
   ]
  },
  {
   "cell_type": "markdown",
   "id": "f045cd44",
   "metadata": {},
   "source": [
    "## Preparing Data for Machine Learning"
   ]
  },
  {
   "cell_type": "markdown",
   "id": "64056f9e",
   "metadata": {},
   "source": [
    "### Data Preparation"
   ]
  },
  {
   "cell_type": "markdown",
   "id": "234b1d58",
   "metadata": {},
   "source": [
    "### Loading Library"
   ]
  },
  {
   "cell_type": "code",
   "execution_count": 1,
   "id": "b9e871d6",
   "metadata": {},
   "outputs": [],
   "source": [
    "import numpy as np\n",
    "import pandas as pd\n",
    "import matplotlib.pyplot as plt\n",
    "import seaborn as sns\n",
    "# sk learn\n",
    "from sklearn import preprocessing\n",
    "from sklearn.preprocessing import MinMaxScaler,StandardScaler\n",
    "\n",
    "\n",
    "from sklearn.linear_model import LinearRegression\n",
    "from sklearn.model_selection import train_test_split\n",
    "from sklearn.metrics import mean_squared_error\n",
    "from sklearn.metrics import mean_absolute_error\n",
    "from sklearn import metrics\n",
    "from sklearn import preprocessing\n",
    "from sklearn.tree import DecisionTreeRegressor\n",
    "from sklearn.model_selection import GridSearchCV, cross_val_score, cross_val_predict, train_test_split\n",
    "from sklearn import tree"
   ]
  },
  {
   "cell_type": "markdown",
   "id": "52ef7f88",
   "metadata": {},
   "source": [
    "### Loading Data"
   ]
  },
  {
   "cell_type": "code",
   "execution_count": 2,
   "id": "e56d50de",
   "metadata": {},
   "outputs": [
    {
     "data": {
      "text/html": [
       "<div>\n",
       "<style scoped>\n",
       "    .dataframe tbody tr th:only-of-type {\n",
       "        vertical-align: middle;\n",
       "    }\n",
       "\n",
       "    .dataframe tbody tr th {\n",
       "        vertical-align: top;\n",
       "    }\n",
       "\n",
       "    .dataframe thead th {\n",
       "        text-align: right;\n",
       "    }\n",
       "</style>\n",
       "<table border=\"1\" class=\"dataframe\">\n",
       "  <thead>\n",
       "    <tr style=\"text-align: right;\">\n",
       "      <th></th>\n",
       "      <th>Item_Identifier</th>\n",
       "      <th>Item_Weight</th>\n",
       "      <th>Item_Fat_Content</th>\n",
       "      <th>Item_Visibility</th>\n",
       "      <th>Item_Type</th>\n",
       "      <th>Item_MRP</th>\n",
       "      <th>Outlet_Identifier</th>\n",
       "      <th>Outlet_Establishment_Year</th>\n",
       "      <th>Outlet_Size</th>\n",
       "      <th>Outlet_Location_Type</th>\n",
       "      <th>Outlet_Type</th>\n",
       "      <th>Item_Outlet_Sales</th>\n",
       "    </tr>\n",
       "  </thead>\n",
       "  <tbody>\n",
       "    <tr>\n",
       "      <th>0</th>\n",
       "      <td>FDA15</td>\n",
       "      <td>9.30</td>\n",
       "      <td>Low Fat</td>\n",
       "      <td>0.016047</td>\n",
       "      <td>Dairy</td>\n",
       "      <td>249.8092</td>\n",
       "      <td>OUT049</td>\n",
       "      <td>1999</td>\n",
       "      <td>Medium</td>\n",
       "      <td>Tier 1</td>\n",
       "      <td>Supermarket Type1</td>\n",
       "      <td>3735.1380</td>\n",
       "    </tr>\n",
       "    <tr>\n",
       "      <th>1</th>\n",
       "      <td>DRC01</td>\n",
       "      <td>5.92</td>\n",
       "      <td>Regular</td>\n",
       "      <td>0.019278</td>\n",
       "      <td>Soft Drinks</td>\n",
       "      <td>48.2692</td>\n",
       "      <td>OUT018</td>\n",
       "      <td>2009</td>\n",
       "      <td>Medium</td>\n",
       "      <td>Tier 3</td>\n",
       "      <td>Supermarket Type2</td>\n",
       "      <td>443.4228</td>\n",
       "    </tr>\n",
       "    <tr>\n",
       "      <th>2</th>\n",
       "      <td>FDN15</td>\n",
       "      <td>17.50</td>\n",
       "      <td>Low Fat</td>\n",
       "      <td>0.016760</td>\n",
       "      <td>Meat</td>\n",
       "      <td>141.6180</td>\n",
       "      <td>OUT049</td>\n",
       "      <td>1999</td>\n",
       "      <td>Medium</td>\n",
       "      <td>Tier 1</td>\n",
       "      <td>Supermarket Type1</td>\n",
       "      <td>2097.2700</td>\n",
       "    </tr>\n",
       "    <tr>\n",
       "      <th>3</th>\n",
       "      <td>FDX07</td>\n",
       "      <td>19.20</td>\n",
       "      <td>Regular</td>\n",
       "      <td>0.074402</td>\n",
       "      <td>Fruits and Vegetables</td>\n",
       "      <td>182.0950</td>\n",
       "      <td>OUT010</td>\n",
       "      <td>1998</td>\n",
       "      <td>Medium</td>\n",
       "      <td>Tier 3</td>\n",
       "      <td>Grocery Store</td>\n",
       "      <td>732.3800</td>\n",
       "    </tr>\n",
       "    <tr>\n",
       "      <th>4</th>\n",
       "      <td>NCD19</td>\n",
       "      <td>8.93</td>\n",
       "      <td>Low Fat</td>\n",
       "      <td>0.064299</td>\n",
       "      <td>Household</td>\n",
       "      <td>53.8614</td>\n",
       "      <td>OUT013</td>\n",
       "      <td>1987</td>\n",
       "      <td>High</td>\n",
       "      <td>Tier 3</td>\n",
       "      <td>Supermarket Type1</td>\n",
       "      <td>994.7052</td>\n",
       "    </tr>\n",
       "  </tbody>\n",
       "</table>\n",
       "</div>"
      ],
      "text/plain": [
       "  Item_Identifier  Item_Weight Item_Fat_Content  Item_Visibility  \\\n",
       "0           FDA15         9.30          Low Fat         0.016047   \n",
       "1           DRC01         5.92          Regular         0.019278   \n",
       "2           FDN15        17.50          Low Fat         0.016760   \n",
       "3           FDX07        19.20          Regular         0.074402   \n",
       "4           NCD19         8.93          Low Fat         0.064299   \n",
       "\n",
       "               Item_Type  Item_MRP Outlet_Identifier  \\\n",
       "0                  Dairy  249.8092            OUT049   \n",
       "1            Soft Drinks   48.2692            OUT018   \n",
       "2                   Meat  141.6180            OUT049   \n",
       "3  Fruits and Vegetables  182.0950            OUT010   \n",
       "4              Household   53.8614            OUT013   \n",
       "\n",
       "   Outlet_Establishment_Year Outlet_Size Outlet_Location_Type  \\\n",
       "0                       1999      Medium               Tier 1   \n",
       "1                       2009      Medium               Tier 3   \n",
       "2                       1999      Medium               Tier 1   \n",
       "3                       1998      Medium               Tier 3   \n",
       "4                       1987        High               Tier 3   \n",
       "\n",
       "         Outlet_Type  Item_Outlet_Sales  \n",
       "0  Supermarket Type1          3735.1380  \n",
       "1  Supermarket Type2           443.4228  \n",
       "2  Supermarket Type1          2097.2700  \n",
       "3      Grocery Store           732.3800  \n",
       "4  Supermarket Type1           994.7052  "
      ]
     },
     "execution_count": 2,
     "metadata": {},
     "output_type": "execute_result"
    }
   ],
   "source": [
    "data=pd.read_csv(\"DS3_C6_S1_Regression_StoreSales_Data_Project.csv\")\n",
    "data.head()"
   ]
  },
  {
   "cell_type": "markdown",
   "id": "1c4f851c",
   "metadata": {},
   "source": [
    "### Understanding data structure"
   ]
  },
  {
   "cell_type": "markdown",
   "id": "a1c0a63e",
   "metadata": {},
   "source": [
    "### All columns"
   ]
  },
  {
   "cell_type": "code",
   "execution_count": 3,
   "id": "2933f163",
   "metadata": {},
   "outputs": [
    {
     "data": {
      "text/plain": [
       "Index(['Item_Identifier', 'Item_Weight', 'Item_Fat_Content', 'Item_Visibility',\n",
       "       'Item_Type', 'Item_MRP', 'Outlet_Identifier',\n",
       "       'Outlet_Establishment_Year', 'Outlet_Size', 'Outlet_Location_Type',\n",
       "       'Outlet_Type', 'Item_Outlet_Sales'],\n",
       "      dtype='object')"
      ]
     },
     "execution_count": 3,
     "metadata": {},
     "output_type": "execute_result"
    }
   ],
   "source": [
    "\n",
    "data.columns"
   ]
  },
  {
   "cell_type": "markdown",
   "id": "022321ed",
   "metadata": {},
   "source": [
    "### structure of dataset"
   ]
  },
  {
   "cell_type": "code",
   "execution_count": 4,
   "id": "8ded625e",
   "metadata": {},
   "outputs": [
    {
     "data": {
      "text/plain": [
       "(14204, 12)"
      ]
     },
     "execution_count": 4,
     "metadata": {},
     "output_type": "execute_result"
    }
   ],
   "source": [
    "data.shape"
   ]
  },
  {
   "cell_type": "code",
   "execution_count": 5,
   "id": "51cf41c3",
   "metadata": {},
   "outputs": [
    {
     "data": {
      "text/plain": [
       "170448"
      ]
     },
     "execution_count": 5,
     "metadata": {},
     "output_type": "execute_result"
    }
   ],
   "source": [
    "data.size"
   ]
  },
  {
   "cell_type": "code",
   "execution_count": 6,
   "id": "8e8726e4",
   "metadata": {},
   "outputs": [
    {
     "name": "stdout",
     "output_type": "stream",
     "text": [
      "<class 'pandas.core.frame.DataFrame'>\n",
      "RangeIndex: 14204 entries, 0 to 14203\n",
      "Data columns (total 12 columns):\n",
      " #   Column                     Non-Null Count  Dtype  \n",
      "---  ------                     --------------  -----  \n",
      " 0   Item_Identifier            14204 non-null  object \n",
      " 1   Item_Weight                14204 non-null  float64\n",
      " 2   Item_Fat_Content           14204 non-null  object \n",
      " 3   Item_Visibility            14204 non-null  float64\n",
      " 4   Item_Type                  14204 non-null  object \n",
      " 5   Item_MRP                   14204 non-null  float64\n",
      " 6   Outlet_Identifier          14204 non-null  object \n",
      " 7   Outlet_Establishment_Year  14204 non-null  int64  \n",
      " 8   Outlet_Size                14204 non-null  object \n",
      " 9   Outlet_Location_Type       14204 non-null  object \n",
      " 10  Outlet_Type                14204 non-null  object \n",
      " 11  Item_Outlet_Sales          8523 non-null   float64\n",
      "dtypes: float64(4), int64(1), object(7)\n",
      "memory usage: 1.3+ MB\n"
     ]
    }
   ],
   "source": [
    "data.info()"
   ]
  },
  {
   "cell_type": "markdown",
   "id": "815c0b35",
   "metadata": {},
   "source": [
    "### Summary of dataset"
   ]
  },
  {
   "cell_type": "code",
   "execution_count": 7,
   "id": "7b68136e",
   "metadata": {},
   "outputs": [
    {
     "data": {
      "text/html": [
       "<div>\n",
       "<style scoped>\n",
       "    .dataframe tbody tr th:only-of-type {\n",
       "        vertical-align: middle;\n",
       "    }\n",
       "\n",
       "    .dataframe tbody tr th {\n",
       "        vertical-align: top;\n",
       "    }\n",
       "\n",
       "    .dataframe thead th {\n",
       "        text-align: right;\n",
       "    }\n",
       "</style>\n",
       "<table border=\"1\" class=\"dataframe\">\n",
       "  <thead>\n",
       "    <tr style=\"text-align: right;\">\n",
       "      <th></th>\n",
       "      <th>count</th>\n",
       "      <th>mean</th>\n",
       "      <th>std</th>\n",
       "      <th>min</th>\n",
       "      <th>25%</th>\n",
       "      <th>50%</th>\n",
       "      <th>75%</th>\n",
       "      <th>max</th>\n",
       "    </tr>\n",
       "  </thead>\n",
       "  <tbody>\n",
       "    <tr>\n",
       "      <th>Item_Weight</th>\n",
       "      <td>14204.0</td>\n",
       "      <td>12.793380</td>\n",
       "      <td>4.651716</td>\n",
       "      <td>4.555000</td>\n",
       "      <td>8.710000</td>\n",
       "      <td>12.600000</td>\n",
       "      <td>16.750000</td>\n",
       "      <td>21.350000</td>\n",
       "    </tr>\n",
       "    <tr>\n",
       "      <th>Item_Visibility</th>\n",
       "      <td>14204.0</td>\n",
       "      <td>0.070301</td>\n",
       "      <td>0.048621</td>\n",
       "      <td>0.003575</td>\n",
       "      <td>0.033143</td>\n",
       "      <td>0.062347</td>\n",
       "      <td>0.094037</td>\n",
       "      <td>0.328391</td>\n",
       "    </tr>\n",
       "    <tr>\n",
       "      <th>Item_MRP</th>\n",
       "      <td>14204.0</td>\n",
       "      <td>141.004977</td>\n",
       "      <td>62.086938</td>\n",
       "      <td>31.290000</td>\n",
       "      <td>94.012000</td>\n",
       "      <td>142.247000</td>\n",
       "      <td>185.855600</td>\n",
       "      <td>266.888400</td>\n",
       "    </tr>\n",
       "    <tr>\n",
       "      <th>Outlet_Establishment_Year</th>\n",
       "      <td>14204.0</td>\n",
       "      <td>1997.830681</td>\n",
       "      <td>8.371664</td>\n",
       "      <td>1985.000000</td>\n",
       "      <td>1987.000000</td>\n",
       "      <td>1999.000000</td>\n",
       "      <td>2004.000000</td>\n",
       "      <td>2009.000000</td>\n",
       "    </tr>\n",
       "    <tr>\n",
       "      <th>Item_Outlet_Sales</th>\n",
       "      <td>8523.0</td>\n",
       "      <td>2181.288914</td>\n",
       "      <td>1706.499616</td>\n",
       "      <td>33.290000</td>\n",
       "      <td>834.247400</td>\n",
       "      <td>1794.331000</td>\n",
       "      <td>3101.296400</td>\n",
       "      <td>13086.964800</td>\n",
       "    </tr>\n",
       "  </tbody>\n",
       "</table>\n",
       "</div>"
      ],
      "text/plain": [
       "                             count         mean          std          min  \\\n",
       "Item_Weight                14204.0    12.793380     4.651716     4.555000   \n",
       "Item_Visibility            14204.0     0.070301     0.048621     0.003575   \n",
       "Item_MRP                   14204.0   141.004977    62.086938    31.290000   \n",
       "Outlet_Establishment_Year  14204.0  1997.830681     8.371664  1985.000000   \n",
       "Item_Outlet_Sales           8523.0  2181.288914  1706.499616    33.290000   \n",
       "\n",
       "                                   25%          50%          75%           max  \n",
       "Item_Weight                   8.710000    12.600000    16.750000     21.350000  \n",
       "Item_Visibility               0.033143     0.062347     0.094037      0.328391  \n",
       "Item_MRP                     94.012000   142.247000   185.855600    266.888400  \n",
       "Outlet_Establishment_Year  1987.000000  1999.000000  2004.000000   2009.000000  \n",
       "Item_Outlet_Sales           834.247400  1794.331000  3101.296400  13086.964800  "
      ]
     },
     "execution_count": 7,
     "metadata": {},
     "output_type": "execute_result"
    }
   ],
   "source": [
    "data.describe().T"
   ]
  },
  {
   "cell_type": "code",
   "execution_count": 8,
   "id": "1e5f109d",
   "metadata": {},
   "outputs": [
    {
     "data": {
      "text/html": [
       "<div>\n",
       "<style scoped>\n",
       "    .dataframe tbody tr th:only-of-type {\n",
       "        vertical-align: middle;\n",
       "    }\n",
       "\n",
       "    .dataframe tbody tr th {\n",
       "        vertical-align: top;\n",
       "    }\n",
       "\n",
       "    .dataframe thead th {\n",
       "        text-align: right;\n",
       "    }\n",
       "</style>\n",
       "<table border=\"1\" class=\"dataframe\">\n",
       "  <thead>\n",
       "    <tr style=\"text-align: right;\">\n",
       "      <th></th>\n",
       "      <th>count</th>\n",
       "      <th>unique</th>\n",
       "      <th>top</th>\n",
       "      <th>freq</th>\n",
       "    </tr>\n",
       "  </thead>\n",
       "  <tbody>\n",
       "    <tr>\n",
       "      <th>Item_Identifier</th>\n",
       "      <td>14204</td>\n",
       "      <td>1559</td>\n",
       "      <td>FDU15</td>\n",
       "      <td>10</td>\n",
       "    </tr>\n",
       "    <tr>\n",
       "      <th>Item_Fat_Content</th>\n",
       "      <td>14204</td>\n",
       "      <td>2</td>\n",
       "      <td>Low Fat</td>\n",
       "      <td>9185</td>\n",
       "    </tr>\n",
       "    <tr>\n",
       "      <th>Item_Type</th>\n",
       "      <td>14204</td>\n",
       "      <td>16</td>\n",
       "      <td>Fruits and Vegetables</td>\n",
       "      <td>2013</td>\n",
       "    </tr>\n",
       "    <tr>\n",
       "      <th>Outlet_Identifier</th>\n",
       "      <td>14204</td>\n",
       "      <td>10</td>\n",
       "      <td>OUT027</td>\n",
       "      <td>1559</td>\n",
       "    </tr>\n",
       "    <tr>\n",
       "      <th>Outlet_Size</th>\n",
       "      <td>14204</td>\n",
       "      <td>3</td>\n",
       "      <td>Small</td>\n",
       "      <td>7071</td>\n",
       "    </tr>\n",
       "    <tr>\n",
       "      <th>Outlet_Location_Type</th>\n",
       "      <td>14204</td>\n",
       "      <td>3</td>\n",
       "      <td>Tier 3</td>\n",
       "      <td>5583</td>\n",
       "    </tr>\n",
       "    <tr>\n",
       "      <th>Outlet_Type</th>\n",
       "      <td>14204</td>\n",
       "      <td>4</td>\n",
       "      <td>Supermarket Type1</td>\n",
       "      <td>9294</td>\n",
       "    </tr>\n",
       "  </tbody>\n",
       "</table>\n",
       "</div>"
      ],
      "text/plain": [
       "                      count unique                    top  freq\n",
       "Item_Identifier       14204   1559                  FDU15    10\n",
       "Item_Fat_Content      14204      2                Low Fat  9185\n",
       "Item_Type             14204     16  Fruits and Vegetables  2013\n",
       "Outlet_Identifier     14204     10                 OUT027  1559\n",
       "Outlet_Size           14204      3                  Small  7071\n",
       "Outlet_Location_Type  14204      3                 Tier 3  5583\n",
       "Outlet_Type           14204      4      Supermarket Type1  9294"
      ]
     },
     "execution_count": 8,
     "metadata": {},
     "output_type": "execute_result"
    }
   ],
   "source": [
    "data.describe(include = 'object').T"
   ]
  },
  {
   "cell_type": "markdown",
   "id": "6910d010",
   "metadata": {},
   "source": [
    "### Count of each label in categorical column"
   ]
  },
  {
   "cell_type": "code",
   "execution_count": 9,
   "id": "cc6e3b93",
   "metadata": {},
   "outputs": [
    {
     "data": {
      "text/plain": [
       "Low Fat    9185\n",
       "Regular    5019\n",
       "Name: Item_Fat_Content, dtype: int64"
      ]
     },
     "execution_count": 9,
     "metadata": {},
     "output_type": "execute_result"
    }
   ],
   "source": [
    "data.Item_Fat_Content.value_counts()"
   ]
  },
  {
   "cell_type": "markdown",
   "id": "1c446237",
   "metadata": {},
   "source": [
    "#### We have two categories of fat that is low fat and regular fat."
   ]
  },
  {
   "cell_type": "code",
   "execution_count": 10,
   "id": "6662b756",
   "metadata": {},
   "outputs": [
    {
     "data": {
      "text/plain": [
       "Fruits and Vegetables    2013\n",
       "Snack Foods              1989\n",
       "Household                1548\n",
       "Frozen Foods             1426\n",
       "Dairy                    1136\n",
       "Baking Goods             1086\n",
       "Canned                   1084\n",
       "Health and Hygiene        858\n",
       "Meat                      736\n",
       "Soft Drinks               726\n",
       "Breads                    416\n",
       "Hard Drinks               362\n",
       "Others                    280\n",
       "Starchy Foods             269\n",
       "Breakfast                 186\n",
       "Seafood                    89\n",
       "Name: Item_Type, dtype: int64"
      ]
     },
     "execution_count": 10,
     "metadata": {},
     "output_type": "execute_result"
    }
   ],
   "source": [
    "data.Item_Type.value_counts()"
   ]
  },
  {
   "cell_type": "markdown",
   "id": "60afb891",
   "metadata": {},
   "source": [
    "#### We have 16 categories of item types."
   ]
  },
  {
   "cell_type": "code",
   "execution_count": 11,
   "id": "50c886ec",
   "metadata": {},
   "outputs": [
    {
     "data": {
      "text/plain": [
       "OUT027    1559\n",
       "OUT013    1553\n",
       "OUT049    1550\n",
       "OUT046    1550\n",
       "OUT035    1550\n",
       "OUT045    1548\n",
       "OUT018    1546\n",
       "OUT017    1543\n",
       "OUT010     925\n",
       "OUT019     880\n",
       "Name: Outlet_Identifier, dtype: int64"
      ]
     },
     "execution_count": 11,
     "metadata": {},
     "output_type": "execute_result"
    }
   ],
   "source": [
    "data.Outlet_Identifier.value_counts()"
   ]
  },
  {
   "cell_type": "markdown",
   "id": "39ed09b5",
   "metadata": {},
   "source": [
    "#### We have 10 types of outlet ."
   ]
  },
  {
   "cell_type": "code",
   "execution_count": 12,
   "id": "361c436a",
   "metadata": {},
   "outputs": [
    {
     "data": {
      "text/plain": [
       "Small     7071\n",
       "Medium    5580\n",
       "High      1553\n",
       "Name: Outlet_Size, dtype: int64"
      ]
     },
     "execution_count": 12,
     "metadata": {},
     "output_type": "execute_result"
    }
   ],
   "source": [
    "data.Outlet_Size.value_counts()"
   ]
  },
  {
   "cell_type": "markdown",
   "id": "100f7b49",
   "metadata": {},
   "source": [
    "#### We have 3 categories of outlet size that is small,medium,high."
   ]
  },
  {
   "cell_type": "code",
   "execution_count": 13,
   "id": "720b8f9c",
   "metadata": {},
   "outputs": [
    {
     "data": {
      "text/plain": [
       "Tier 3    5583\n",
       "Tier 2    4641\n",
       "Tier 1    3980\n",
       "Name: Outlet_Location_Type, dtype: int64"
      ]
     },
     "execution_count": 13,
     "metadata": {},
     "output_type": "execute_result"
    }
   ],
   "source": [
    "data.Outlet_Location_Type.value_counts()"
   ]
  },
  {
   "cell_type": "markdown",
   "id": "29bbbb28",
   "metadata": {},
   "source": [
    "#### We have 3 locations tier1,tier2 and tier 3"
   ]
  },
  {
   "cell_type": "code",
   "execution_count": 14,
   "id": "68b4c495",
   "metadata": {},
   "outputs": [
    {
     "data": {
      "text/plain": [
       "Supermarket Type1    9294\n",
       "Grocery Store        1805\n",
       "Supermarket Type3    1559\n",
       "Supermarket Type2    1546\n",
       "Name: Outlet_Type, dtype: int64"
      ]
     },
     "execution_count": 14,
     "metadata": {},
     "output_type": "execute_result"
    }
   ],
   "source": [
    "data.Outlet_Type.value_counts()"
   ]
  },
  {
   "cell_type": "markdown",
   "id": "e085b71c",
   "metadata": {},
   "source": [
    "#### We have 4 types of outlet."
   ]
  },
  {
   "cell_type": "code",
   "execution_count": 15,
   "id": "d2e1d385",
   "metadata": {},
   "outputs": [
    {
     "data": {
      "text/plain": [
       "1985    2439\n",
       "1987    1553\n",
       "1999    1550\n",
       "1997    1550\n",
       "2004    1550\n",
       "2002    1548\n",
       "2009    1546\n",
       "2007    1543\n",
       "1998     925\n",
       "Name: Outlet_Establishment_Year, dtype: int64"
      ]
     },
     "execution_count": 15,
     "metadata": {},
     "output_type": "execute_result"
    }
   ],
   "source": [
    "data.Outlet_Establishment_Year.value_counts()"
   ]
  },
  {
   "cell_type": "markdown",
   "id": "3a0845a2",
   "metadata": {},
   "source": [
    "#### We have 9 unique year in which the outlet has beem established and the maximum number of outlet has been established in 1985."
   ]
  },
  {
   "cell_type": "code",
   "execution_count": 16,
   "id": "25f8fd3e",
   "metadata": {},
   "outputs": [
    {
     "data": {
      "text/plain": [
       "958.7520     17\n",
       "1342.2528    16\n",
       "703.0848     15\n",
       "1845.5976    15\n",
       "1278.3360    14\n",
       "             ..\n",
       "4124.6310     1\n",
       "6622.7126     1\n",
       "1614.5650     1\n",
       "5602.7070     1\n",
       "2778.3834     1\n",
       "Name: Item_Outlet_Sales, Length: 3493, dtype: int64"
      ]
     },
     "execution_count": 16,
     "metadata": {},
     "output_type": "execute_result"
    }
   ],
   "source": [
    "data.Item_Outlet_Sales.value_counts()"
   ]
  },
  {
   "cell_type": "markdown",
   "id": "837b6c29",
   "metadata": {},
   "source": [
    "#### All item outlet sales are unique values ."
   ]
  },
  {
   "cell_type": "markdown",
   "id": "b9ae39d5",
   "metadata": {},
   "source": [
    "### Missing Value Treatment"
   ]
  },
  {
   "cell_type": "markdown",
   "id": "71ff6a1b",
   "metadata": {},
   "source": [
    "### Checking for null value in each column"
   ]
  },
  {
   "cell_type": "code",
   "execution_count": 17,
   "id": "8b1e6435",
   "metadata": {},
   "outputs": [
    {
     "data": {
      "text/plain": [
       "Item_Identifier                 0\n",
       "Item_Weight                     0\n",
       "Item_Fat_Content                0\n",
       "Item_Visibility                 0\n",
       "Item_Type                       0\n",
       "Item_MRP                        0\n",
       "Outlet_Identifier               0\n",
       "Outlet_Establishment_Year       0\n",
       "Outlet_Size                     0\n",
       "Outlet_Location_Type            0\n",
       "Outlet_Type                     0\n",
       "Item_Outlet_Sales            5681\n",
       "dtype: int64"
      ]
     },
     "execution_count": 17,
     "metadata": {},
     "output_type": "execute_result"
    }
   ],
   "source": [
    "data.isnull().sum()"
   ]
  },
  {
   "cell_type": "markdown",
   "id": "82db77a1",
   "metadata": {},
   "source": [
    "#### There is missing values in our item outlet sales which we will use for precdicting the sales of the outlet purpose\n",
    "."
   ]
  },
  {
   "cell_type": "code",
   "execution_count": 18,
   "id": "1659fa21",
   "metadata": {},
   "outputs": [],
   "source": [
    "import warnings\n",
    "warnings.filterwarnings(\"ignore\")\n",
    "import seaborn as sns\n",
    "from tabulate import tabulate"
   ]
  },
  {
   "cell_type": "code",
   "execution_count": 19,
   "id": "d131bc44",
   "metadata": {},
   "outputs": [
    {
     "name": "stdout",
     "output_type": "stream",
     "text": [
      "Categorical                continuous\n",
      "-------------------------  -----------------\n",
      "Item_Fat_Content           Item_Identifier\n",
      "Outlet_Identifier          Item_Weight\n",
      "Outlet_Establishment_Year  Item_Visibility\n",
      "Outlet_Size                Item_Type\n",
      "Outlet_Location_Type       Item_MRP\n",
      "Outlet_Type                Item_Outlet_Sales\n"
     ]
    }
   ],
   "source": [
    "def sep(df):\n",
    "    categorical = []\n",
    "    continuous = []\n",
    "    \n",
    "    for column in df.columns:\n",
    "        if df[column].nunique() < 15:\n",
    "            categorical.append(column)\n",
    "            \n",
    "        else:\n",
    "            continuous.append(column)\n",
    "                \n",
    "    return categorical, continuous\n",
    "\n",
    "categorical, continuous = sep(data)\n",
    "\n",
    "table ={\"Categorical\":categorical, \"Continuous\":continuous}\n",
    "print(tabulate(table, headers=[\"Categorical\",\"continuous\"]))"
   ]
  },
  {
   "cell_type": "markdown",
   "id": "0a59c777",
   "metadata": {},
   "source": [
    "### Performing EDA(Univariate)"
   ]
  },
  {
   "cell_type": "code",
   "execution_count": 20,
   "id": "c9112e4e",
   "metadata": {},
   "outputs": [],
   "source": [
    "def info_of_cat(col): \n",
    "    print(f\"Unique values in {col} are: {data[col].unique()}\") # unique: returns the unique values in the col\n",
    "    print(f\"Mode of {col} is {data[col].mode()[0]}\")  # mode: returns the mode of the column\n",
    "    print(f\"Number of missing values in {col} is {data[col].isnull().sum()}\") # isnull().sum() counts the number of null in dataframe\n",
    "    if data[col].isnull().sum() > 0:  # check if null values are present\n",
    "        print(f\"\\nThere are null values in the {col} column\")"
   ]
  },
  {
   "cell_type": "code",
   "execution_count": 21,
   "id": "c0eddaf6",
   "metadata": {},
   "outputs": [
    {
     "name": "stdout",
     "output_type": "stream",
     "text": [
      "Unique values in Item_Fat_Content are: ['Low Fat' 'Regular']\n",
      "Mode of Item_Fat_Content is Low Fat\n",
      "Number of missing values in Item_Fat_Content is 0\n"
     ]
    }
   ],
   "source": [
    "info_of_cat(\"Item_Fat_Content\")"
   ]
  },
  {
   "cell_type": "code",
   "execution_count": 22,
   "id": "f3129cc8",
   "metadata": {},
   "outputs": [
    {
     "name": "stdout",
     "output_type": "stream",
     "text": [
      "Unique values in Item_Type are: ['Dairy' 'Soft Drinks' 'Meat' 'Fruits and Vegetables' 'Household'\n",
      " 'Baking Goods' 'Snack Foods' 'Frozen Foods' 'Breakfast'\n",
      " 'Health and Hygiene' 'Hard Drinks' 'Canned' 'Breads' 'Starchy Foods'\n",
      " 'Others' 'Seafood']\n",
      "Mode of Item_Type is Fruits and Vegetables\n",
      "Number of missing values in Item_Type is 0\n"
     ]
    }
   ],
   "source": [
    "info_of_cat(\"Item_Type\")"
   ]
  },
  {
   "cell_type": "markdown",
   "id": "6d132276",
   "metadata": {},
   "source": [
    "### EDA(continuous columns)"
   ]
  },
  {
   "cell_type": "code",
   "execution_count": 23,
   "id": "f39420ed",
   "metadata": {},
   "outputs": [],
   "source": [
    "def info_of_numerical(col):\n",
    "    print(f\"The mean of the {col} is {data[col].mean()}\")\n",
    "    print(f\"The median of the {col} is {data[col].median()}\")\n",
    "    print(f\"The mode of the {col} is {data[col].mode()[0]}\")\n",
    "    print(f\"The standard deviation of the {col} is {data[col].std()}\")\n",
    "    print(f\"Number of missing values in the {col} is {data[col].isnull().sum()}\")"
   ]
  },
  {
   "cell_type": "code",
   "execution_count": 24,
   "id": "8b589c0d",
   "metadata": {},
   "outputs": [
    {
     "name": "stdout",
     "output_type": "stream",
     "text": [
      "The mean of the Item_MRP is 141.00497725992656\n",
      "The median of the Item_MRP is 142.247\n",
      "The mode of the Item_MRP is 172.0422\n",
      "The standard deviation of the Item_MRP is 62.086938014763994\n",
      "Number of missing values in the Item_MRP is 0\n"
     ]
    }
   ],
   "source": [
    "info_of_numerical(\"Item_MRP\")"
   ]
  },
  {
   "cell_type": "code",
   "execution_count": 25,
   "id": "1218a689",
   "metadata": {},
   "outputs": [
    {
     "name": "stdout",
     "output_type": "stream",
     "text": [
      "['Item_Identifier', 'Item_Weight', 'Item_Visibility', 'Item_Type', 'Item_MRP', 'Item_Outlet_Sales']\n",
      "The mean of the Item_Visibility is 0.07030079341671354\n",
      "The median of the Item_Visibility is 0.062347052\n",
      "The mode of the Item_Visibility is 0.06470883\n",
      "The standard deviation of the Item_Visibility is 0.048621198376929964\n",
      "Number of missing values in the Item_Visibility is 0\n"
     ]
    }
   ],
   "source": [
    "print(continuous)\n",
    "info_of_numerical(\"Item_Visibility\")"
   ]
  },
  {
   "cell_type": "markdown",
   "id": "8b247939",
   "metadata": {},
   "source": [
    "## Feature Engineering"
   ]
  },
  {
   "cell_type": "code",
   "execution_count": 26,
   "id": "fbe74055",
   "metadata": {},
   "outputs": [
    {
     "name": "stdout",
     "output_type": "stream",
     "text": [
      "Categorical                continuous\n",
      "-------------------------  -----------------\n",
      "Item_Fat_Content           Item_Identifier\n",
      "Outlet_Identifier          Item_Weight\n",
      "Outlet_Establishment_Year  Item_Visibility\n",
      "Outlet_Size                Item_Type\n",
      "Outlet_Location_Type       Item_MRP\n",
      "Outlet_Type                Item_Outlet_Sales\n"
     ]
    }
   ],
   "source": [
    "def sep(df):\n",
    "    categorical = []\n",
    "    continuous = []\n",
    "    \n",
    "    for column in df.columns:\n",
    "        if df[column].nunique() < 15:\n",
    "            categorical.append(column)\n",
    "            \n",
    "        else:\n",
    "            continuous.append(column)\n",
    "                \n",
    "    return categorical, continuous\n",
    "\n",
    "categorical, continuous = sep(data)\n",
    "\n",
    "table ={\"Categorical\":categorical, \"Continuous\":continuous}\n",
    "print(tabulate(table, headers=[\"Categorical\",\"continuous\"]))"
   ]
  },
  {
   "cell_type": "markdown",
   "id": "d5997d1c",
   "metadata": {},
   "source": [
    "###  Histogram of all numerical features\n"
   ]
  },
  {
   "cell_type": "code",
   "execution_count": 27,
   "id": "f68c7b40",
   "metadata": {},
   "outputs": [
    {
     "data": {
      "image/png": "[encoded data removed]",
      "text/plain": [
       "<Figure size 1440x720 with 10 Axes>"
      ]
     },
     "metadata": {
      "needs_background": "light"
     },
     "output_type": "display_data"
    }
   ],
   "source": [
    "\n",
    "numerics = ['int16', 'int32', 'int64', 'float16', 'float32', 'float64']\n",
    "\n",
    "new_df = data.select_dtypes(include=numerics)\n",
    "numeric_cols=data.columns\n",
    "num_cols=5\n",
    "n_bins = 20\n",
    "\n",
    "# compute number of rows for plot \n",
    "num_rows= int(len(numeric_cols)/num_cols)\n",
    "\n",
    "# setting canvas for plotting\n",
    "fig, axs = plt.subplots(num_rows, num_cols, tight_layout=True,figsize=(20,10))\n",
    "\n",
    "# plotting the numerical columns\n",
    "for col, ax in zip(numeric_cols,axs.flatten()[:len(numeric_cols)]):\n",
    "    ax.hist(data[col],bins=n_bins,density=True)\n",
    "    ax.set_title(col)\n",
    "\n",
    "plt.show()"
   ]
  },
  {
   "cell_type": "markdown",
   "id": "f6534bf6",
   "metadata": {},
   "source": [
    "## Using Label Encoder technique to convert categorical column into numerical type"
   ]
  },
  {
   "cell_type": "code",
   "execution_count": 28,
   "id": "94990c64",
   "metadata": {},
   "outputs": [],
   "source": [
    "label_encoder=preprocessing.LabelEncoder()"
   ]
  },
  {
   "cell_type": "code",
   "execution_count": 29,
   "id": "b8ff5943",
   "metadata": {},
   "outputs": [
    {
     "data": {
      "text/plain": [
       "array([0, 1])"
      ]
     },
     "execution_count": 29,
     "metadata": {},
     "output_type": "execute_result"
    }
   ],
   "source": [
    "data['Item_Fat_Content_encode']= label_encoder.fit_transform(data['Item_Fat_Content'])\n",
    "data['Item_Fat_Content_encode'].unique()\n"
   ]
  },
  {
   "cell_type": "code",
   "execution_count": 30,
   "id": "71f2f1b2",
   "metadata": {},
   "outputs": [
    {
     "data": {
      "text/plain": [
       "array([9, 3, 0, 1, 5, 7, 2, 8, 6, 4])"
      ]
     },
     "execution_count": 30,
     "metadata": {},
     "output_type": "execute_result"
    }
   ],
   "source": [
    "data['Outlet_Identifier_encode']= label_encoder.fit_transform(data['Outlet_Identifier'])\n",
    "data['Outlet_Identifier_encode'].unique()\n"
   ]
  },
  {
   "cell_type": "code",
   "execution_count": 31,
   "id": "1ff812d2",
   "metadata": {},
   "outputs": [
    {
     "data": {
      "text/plain": [
       "array([4, 8, 3, 1, 0, 5, 7, 2, 6], dtype=int64)"
      ]
     },
     "execution_count": 31,
     "metadata": {},
     "output_type": "execute_result"
    }
   ],
   "source": [
    "data['Outlet_Establishment_Year_encode']= label_encoder.fit_transform(data['Outlet_Establishment_Year'])\n",
    "data['Outlet_Establishment_Year_encode'].unique()"
   ]
  },
  {
   "cell_type": "code",
   "execution_count": 32,
   "id": "8b85dadb",
   "metadata": {},
   "outputs": [
    {
     "data": {
      "text/plain": [
       "array([1, 0, 2])"
      ]
     },
     "execution_count": 32,
     "metadata": {},
     "output_type": "execute_result"
    }
   ],
   "source": [
    "data['Outlet_Size_Year_encode']= label_encoder.fit_transform(data['Outlet_Size'])\n",
    "data['Outlet_Size_Year_encode'].unique()"
   ]
  },
  {
   "cell_type": "code",
   "execution_count": 33,
   "id": "b15b5ffd",
   "metadata": {},
   "outputs": [
    {
     "data": {
      "text/plain": [
       "array([0, 2, 1])"
      ]
     },
     "execution_count": 33,
     "metadata": {},
     "output_type": "execute_result"
    }
   ],
   "source": [
    "data['Outlet_Location_Type_encode']= label_encoder.fit_transform(data['Outlet_Location_Type'])\n",
    "data['Outlet_Location_Type_encode'].unique()"
   ]
  },
  {
   "cell_type": "code",
   "execution_count": 34,
   "id": "29e9cea4",
   "metadata": {},
   "outputs": [
    {
     "data": {
      "text/plain": [
       "array([1, 2, 0, 3])"
      ]
     },
     "execution_count": 34,
     "metadata": {},
     "output_type": "execute_result"
    }
   ],
   "source": [
    "data['Outlet_Type_encode']= label_encoder.fit_transform(data['Outlet_Type'])\n",
    "data['Outlet_Type_encode'].unique()"
   ]
  },
  {
   "cell_type": "markdown",
   "id": "2d13a451",
   "metadata": {},
   "source": [
    "## Data Visualization"
   ]
  },
  {
   "cell_type": "code",
   "execution_count": 35,
   "id": "e87123e8",
   "metadata": {},
   "outputs": [
    {
     "data": {
      "image/png": "[encoded data removed]",
      "text/plain": [
       "<Figure size 432x288 with 1 Axes>"
      ]
     },
     "metadata": {
      "needs_background": "light"
     },
     "output_type": "display_data"
    }
   ],
   "source": [
    "\n",
    "sns.histplot(x='Item_Weight', data=data);\n",
    " "
   ]
  },
  {
   "cell_type": "markdown",
   "id": "be695851",
   "metadata": {},
   "source": [
    "#### Most item weight is in between 6 to 10."
   ]
  },
  {
   "cell_type": "code",
   "execution_count": 36,
   "id": "4152ee95",
   "metadata": {},
   "outputs": [
    {
     "data": {
      "image/png": "[encoded data removed]",
      "text/plain": [
       "<Figure size 432x288 with 1 Axes>"
      ]
     },
     "metadata": {
      "needs_background": "light"
     },
     "output_type": "display_data"
    }
   ],
   "source": [
    "sns.histplot(x='Item_Fat_Content_encode', data=data);"
   ]
  },
  {
   "cell_type": "markdown",
   "id": "d00bce72",
   "metadata": {},
   "source": [
    "#### The low fat which is encoded by 0 has the count almost 9000 and in percent it is equivalent to 65%"
   ]
  },
  {
   "cell_type": "code",
   "execution_count": 37,
   "id": "f07e17f2",
   "metadata": {},
   "outputs": [
    {
     "data": {
      "image/png": "[encoded data removed]",
      "text/plain": [
       "<Figure size 1080x504 with 1 Axes>"
      ]
     },
     "metadata": {},
     "output_type": "display_data"
    }
   ],
   "source": [
    "plt.figure(figsize = (15,7))\n",
    "x = data[\"Item_Fat_Content_encode\"].value_counts()\n",
    "y = data[\"Item_Fat_Content_encode\"].value_counts().index\n",
    "plt.pie(x,labels = y, autopct = \"%.2f%%\")\n",
    "plt.title(\"Item_Fat_Content\")\n",
    "plt.show()"
   ]
  },
  {
   "cell_type": "code",
   "execution_count": 38,
   "id": "5966655b",
   "metadata": {},
   "outputs": [
    {
     "data": {
      "image/png": "[encoded data removed]",
      "text/plain": [
       "<Figure size 432x288 with 1 Axes>"
      ]
     },
     "metadata": {
      "needs_background": "light"
     },
     "output_type": "display_data"
    }
   ],
   "source": [
    "\n",
    "sns.histplot(x='Item_Visibility', data=data);"
   ]
  },
  {
   "cell_type": "markdown",
   "id": "a0feda17",
   "metadata": {},
   "source": [
    "#### The highest item visibility is between 0.5 to1.0"
   ]
  },
  {
   "cell_type": "code",
   "execution_count": 39,
   "id": "2a2e762c",
   "metadata": {},
   "outputs": [
    {
     "data": {
      "image/png": "[encoded data removed]",
      "text/plain": [
       "<Figure size 432x288 with 1 Axes>"
      ]
     },
     "metadata": {
      "needs_background": "light"
     },
     "output_type": "display_data"
    }
   ],
   "source": [
    "\n",
    "sns.histplot(x='Item_MRP', data=data);"
   ]
  },
  {
   "cell_type": "markdown",
   "id": "6c20d540",
   "metadata": {},
   "source": [
    "#### The most of the item mrp price  is between 75 to 200"
   ]
  },
  {
   "cell_type": "code",
   "execution_count": 40,
   "id": "7b3df90f",
   "metadata": {},
   "outputs": [
    {
     "data": {
      "image/png": "[encoded data removed]",
      "text/plain": [
       "<Figure size 432x288 with 1 Axes>"
      ]
     },
     "metadata": {
      "needs_background": "light"
     },
     "output_type": "display_data"
    }
   ],
   "source": [
    "\n",
    "sns.histplot(x='Outlet_Identifier_encode', data=data);"
   ]
  },
  {
   "cell_type": "markdown",
   "id": "3eaf29a4",
   "metadata": {},
   "source": [
    "#### This is the graph for different outlet "
   ]
  },
  {
   "cell_type": "code",
   "execution_count": 41,
   "id": "7fe985ef",
   "metadata": {},
   "outputs": [
    {
     "data": {
      "image/png": "[encoded data removed]",
      "text/plain": [
       "<Figure size 1080x504 with 1 Axes>"
      ]
     },
     "metadata": {},
     "output_type": "display_data"
    }
   ],
   "source": [
    "plt.figure(figsize = (15,7))\n",
    "x = data[\"Outlet_Identifier_encode\"].value_counts()\n",
    "y = data[\"Outlet_Identifier_encode\"].value_counts().index\n",
    "plt.pie(x,labels = y, autopct = \"%.2f%%\")\n",
    "plt.title(\"Outlet_Identifier_encode\")\n",
    "plt.show()"
   ]
  },
  {
   "cell_type": "code",
   "execution_count": 42,
   "id": "c0c69a1a",
   "metadata": {},
   "outputs": [
    {
     "data": {
      "image/png": "[encoded data removed]",
      "text/plain": [
       "<Figure size 432x288 with 1 Axes>"
      ]
     },
     "metadata": {
      "needs_background": "light"
     },
     "output_type": "display_data"
    }
   ],
   "source": [
    "\n",
    "sns.histplot(x='Outlet_Establishment_Year', data=data);"
   ]
  },
  {
   "cell_type": "markdown",
   "id": "ffb1c4b3",
   "metadata": {},
   "source": [
    "#### Most of the outlet has been established between 1985 to 1997"
   ]
  },
  {
   "cell_type": "code",
   "execution_count": 43,
   "id": "b077ab77",
   "metadata": {},
   "outputs": [
    {
     "data": {
      "image/png": "[encoded data removed]",
      "text/plain": [
       "<Figure size 1080x504 with 1 Axes>"
      ]
     },
     "metadata": {},
     "output_type": "display_data"
    }
   ],
   "source": [
    "plt.figure(figsize = (15,7))\n",
    "x = data[\"Outlet_Establishment_Year\"].value_counts()\n",
    "y = data[\"Outlet_Establishment_Year\"].value_counts().index\n",
    "plt.pie(x,labels = y, autopct = \"%.2f%%\")\n",
    "plt.title(\"Outlet_Establishment_Year\")\n",
    "plt.show()"
   ]
  },
  {
   "cell_type": "code",
   "execution_count": 44,
   "id": "aecc9d10",
   "metadata": {},
   "outputs": [
    {
     "data": {
      "image/png": "[encoded data removed]",
      "text/plain": [
       "<Figure size 432x288 with 1 Axes>"
      ]
     },
     "metadata": {
      "needs_background": "light"
     },
     "output_type": "display_data"
    }
   ],
   "source": [
    "\n",
    "sns.histplot(x='Item_Outlet_Sales', data=data);"
   ]
  },
  {
   "cell_type": "markdown",
   "id": "0d3d6466",
   "metadata": {},
   "source": [
    "#### The maximum sales has been done in the range of 0 to 2000"
   ]
  },
  {
   "cell_type": "markdown",
   "id": "3ded493c",
   "metadata": {},
   "source": [
    "### Histogram of all numerical features"
   ]
  },
  {
   "cell_type": "markdown",
   "id": "a9db36c9",
   "metadata": {},
   "source": [
    "### EDA(Exploratory data analysis)"
   ]
  },
  {
   "cell_type": "markdown",
   "id": "d72330a4",
   "metadata": {},
   "source": [
    "### Distribution of Item MRP"
   ]
  },
  {
   "cell_type": "code",
   "execution_count": 45,
   "id": "aa7749ce",
   "metadata": {},
   "outputs": [
    {
     "data": {
      "image/png": "[encoded data removed]",
      "text/plain": [
       "<Figure size 1440x504 with 2 Axes>"
      ]
     },
     "metadata": {
      "needs_background": "light"
     },
     "output_type": "display_data"
    }
   ],
   "source": [
    "\n",
    "fig, ax = plt.subplots(1, 2, figsize= (20, 7))               \n",
    "sns.histplot(x = data[\"Item_MRP\"], ax =ax[1], color = \"m\") \n",
    "sns.boxplot(x = data[\"Item_MRP\"], ax = ax[0], color = \"g\") \n",
    "plt.show()"
   ]
  },
  {
   "cell_type": "markdown",
   "id": "190fb436",
   "metadata": {},
   "source": [
    "#### The average price of the item is 140 rs"
   ]
  },
  {
   "cell_type": "markdown",
   "id": "60d848f7",
   "metadata": {},
   "source": [
    "### Distribution of outlet establishment year"
   ]
  },
  {
   "cell_type": "code",
   "execution_count": 46,
   "id": "32e078d2",
   "metadata": {},
   "outputs": [
    {
     "data": {
      "image/png": "[encoded data removed]",
      "text/plain": [
       "<Figure size 1440x504 with 2 Axes>"
      ]
     },
     "metadata": {
      "needs_background": "light"
     },
     "output_type": "display_data"
    }
   ],
   "source": [
    "fig, ax = plt.subplots(1, 2, figsize= (20, 7))               \n",
    "sns.histplot(x = data[\"Outlet_Establishment_Year\"], ax =ax[1], color = \"m\") \n",
    "sns.boxplot(x = data[\"Outlet_Establishment_Year\"], ax = ax[0], color = \"g\") \n",
    "plt.show()"
   ]
  },
  {
   "cell_type": "markdown",
   "id": "952bbeed",
   "metadata": {},
   "source": [
    "#### Most of the outlet is opened between 1987 to 1997"
   ]
  },
  {
   "cell_type": "markdown",
   "id": "12135e98",
   "metadata": {},
   "source": [
    "### Feature Scaling"
   ]
  },
  {
   "cell_type": "code",
   "execution_count": 47,
   "id": "c49ce0ed",
   "metadata": {},
   "outputs": [
    {
     "data": {
      "text/plain": [
       "Index(['Item_Identifier', 'Item_Weight', 'Item_Fat_Content', 'Item_Visibility',\n",
       "       'Item_Type', 'Item_MRP', 'Outlet_Identifier',\n",
       "       'Outlet_Establishment_Year', 'Outlet_Size', 'Outlet_Location_Type',\n",
       "       'Outlet_Type', 'Item_Outlet_Sales', 'Item_Fat_Content_encode',\n",
       "       'Outlet_Identifier_encode', 'Outlet_Establishment_Year_encode',\n",
       "       'Outlet_Size_Year_encode', 'Outlet_Location_Type_encode',\n",
       "       'Outlet_Type_encode'],\n",
       "      dtype='object')"
      ]
     },
     "execution_count": 47,
     "metadata": {},
     "output_type": "execute_result"
    }
   ],
   "source": [
    "data.columns"
   ]
  },
  {
   "cell_type": "markdown",
   "id": "5d6e7e02",
   "metadata": {},
   "source": [
    "### Defining method to perform data scaling operation based on the type of scaling"
   ]
  },
  {
   "cell_type": "code",
   "execution_count": 48,
   "id": "63d5b922",
   "metadata": {},
   "outputs": [],
   "source": [
    "# Defining method to perform data scaling operation based on the type of scaling\n",
    "\n",
    "def feature_scale(scale):\n",
    "    numerics = ['int16', 'int32', 'int64', 'float16', 'float32', 'float64']\n",
    "    new_data = data.select_dtypes(include=numerics)\n",
    "    if scale == 'minmax':\n",
    "        scaler = MinMaxScaler()\n",
    "    else:\n",
    "        scaler = StandardScaler()\n",
    "    df_scaled = pd.DataFrame(scaler.fit_transform(new_data.to_numpy()),columns=new_data.columns)\n",
    "    return df_scaled"
   ]
  },
  {
   "cell_type": "markdown",
   "id": "917b2842",
   "metadata": {},
   "source": [
    "### scaling the data using MinMax Scaling process"
   ]
  },
  {
   "cell_type": "code",
   "execution_count": 49,
   "id": "f61b7694",
   "metadata": {},
   "outputs": [
    {
     "data": {
      "text/html": [
       "<div>\n",
       "<style scoped>\n",
       "    .dataframe tbody tr th:only-of-type {\n",
       "        vertical-align: middle;\n",
       "    }\n",
       "\n",
       "    .dataframe tbody tr th {\n",
       "        vertical-align: top;\n",
       "    }\n",
       "\n",
       "    .dataframe thead th {\n",
       "        text-align: right;\n",
       "    }\n",
       "</style>\n",
       "<table border=\"1\" class=\"dataframe\">\n",
       "  <thead>\n",
       "    <tr style=\"text-align: right;\">\n",
       "      <th></th>\n",
       "      <th>Item_Weight</th>\n",
       "      <th>Item_Visibility</th>\n",
       "      <th>Item_MRP</th>\n",
       "      <th>Outlet_Establishment_Year</th>\n",
       "      <th>Item_Outlet_Sales</th>\n",
       "      <th>Item_Fat_Content_encode</th>\n",
       "      <th>Outlet_Identifier_encode</th>\n",
       "      <th>Outlet_Establishment_Year_encode</th>\n",
       "      <th>Outlet_Size_Year_encode</th>\n",
       "      <th>Outlet_Location_Type_encode</th>\n",
       "      <th>Outlet_Type_encode</th>\n",
       "    </tr>\n",
       "  </thead>\n",
       "  <tbody>\n",
       "    <tr>\n",
       "      <th>0</th>\n",
       "      <td>0.282525</td>\n",
       "      <td>0.038399</td>\n",
       "      <td>0.927507</td>\n",
       "      <td>0.583333</td>\n",
       "      <td>0.283587</td>\n",
       "      <td>0.0</td>\n",
       "      <td>1.000000</td>\n",
       "      <td>0.500</td>\n",
       "      <td>0.5</td>\n",
       "      <td>0.0</td>\n",
       "      <td>0.333333</td>\n",
       "    </tr>\n",
       "    <tr>\n",
       "      <th>1</th>\n",
       "      <td>0.081274</td>\n",
       "      <td>0.048346</td>\n",
       "      <td>0.072068</td>\n",
       "      <td>1.000000</td>\n",
       "      <td>0.031419</td>\n",
       "      <td>1.0</td>\n",
       "      <td>0.333333</td>\n",
       "      <td>1.000</td>\n",
       "      <td>0.5</td>\n",
       "      <td>1.0</td>\n",
       "      <td>0.666667</td>\n",
       "    </tr>\n",
       "    <tr>\n",
       "      <th>2</th>\n",
       "      <td>0.770765</td>\n",
       "      <td>0.040593</td>\n",
       "      <td>0.468288</td>\n",
       "      <td>0.583333</td>\n",
       "      <td>0.158115</td>\n",
       "      <td>0.0</td>\n",
       "      <td>1.000000</td>\n",
       "      <td>0.500</td>\n",
       "      <td>0.5</td>\n",
       "      <td>0.0</td>\n",
       "      <td>0.333333</td>\n",
       "    </tr>\n",
       "    <tr>\n",
       "      <th>3</th>\n",
       "      <td>0.871986</td>\n",
       "      <td>0.218055</td>\n",
       "      <td>0.640093</td>\n",
       "      <td>0.541667</td>\n",
       "      <td>0.053555</td>\n",
       "      <td>1.0</td>\n",
       "      <td>0.000000</td>\n",
       "      <td>0.375</td>\n",
       "      <td>0.5</td>\n",
       "      <td>1.0</td>\n",
       "      <td>0.000000</td>\n",
       "    </tr>\n",
       "    <tr>\n",
       "      <th>4</th>\n",
       "      <td>0.260494</td>\n",
       "      <td>0.186950</td>\n",
       "      <td>0.095805</td>\n",
       "      <td>0.083333</td>\n",
       "      <td>0.073651</td>\n",
       "      <td>0.0</td>\n",
       "      <td>0.111111</td>\n",
       "      <td>0.125</td>\n",
       "      <td>0.0</td>\n",
       "      <td>1.0</td>\n",
       "      <td>0.333333</td>\n",
       "    </tr>\n",
       "    <tr>\n",
       "      <th>...</th>\n",
       "      <td>...</td>\n",
       "      <td>...</td>\n",
       "      <td>...</td>\n",
       "      <td>...</td>\n",
       "      <td>...</td>\n",
       "      <td>...</td>\n",
       "      <td>...</td>\n",
       "      <td>...</td>\n",
       "      <td>...</td>\n",
       "      <td>...</td>\n",
       "      <td>...</td>\n",
       "    </tr>\n",
       "    <tr>\n",
       "      <th>14199</th>\n",
       "      <td>0.353974</td>\n",
       "      <td>0.030546</td>\n",
       "      <td>0.467004</td>\n",
       "      <td>0.500000</td>\n",
       "      <td>NaN</td>\n",
       "      <td>1.0</td>\n",
       "      <td>0.888889</td>\n",
       "      <td>0.250</td>\n",
       "      <td>1.0</td>\n",
       "      <td>0.0</td>\n",
       "      <td>0.333333</td>\n",
       "    </tr>\n",
       "    <tr>\n",
       "      <th>14200</th>\n",
       "      <td>0.181304</td>\n",
       "      <td>0.429216</td>\n",
       "      <td>0.585126</td>\n",
       "      <td>1.000000</td>\n",
       "      <td>NaN</td>\n",
       "      <td>1.0</td>\n",
       "      <td>0.333333</td>\n",
       "      <td>1.000</td>\n",
       "      <td>0.5</td>\n",
       "      <td>1.0</td>\n",
       "      <td>0.666667</td>\n",
       "    </tr>\n",
       "    <tr>\n",
       "      <th>14201</th>\n",
       "      <td>0.324204</td>\n",
       "      <td>0.215364</td>\n",
       "      <td>0.371199</td>\n",
       "      <td>0.708333</td>\n",
       "      <td>NaN</td>\n",
       "      <td>0.0</td>\n",
       "      <td>0.777778</td>\n",
       "      <td>0.625</td>\n",
       "      <td>1.0</td>\n",
       "      <td>0.5</td>\n",
       "      <td>0.333333</td>\n",
       "    </tr>\n",
       "    <tr>\n",
       "      <th>14202</th>\n",
       "      <td>0.639774</td>\n",
       "      <td>0.188211</td>\n",
       "      <td>0.778154</td>\n",
       "      <td>0.916667</td>\n",
       "      <td>NaN</td>\n",
       "      <td>1.0</td>\n",
       "      <td>0.222222</td>\n",
       "      <td>0.875</td>\n",
       "      <td>1.0</td>\n",
       "      <td>0.5</td>\n",
       "      <td>0.333333</td>\n",
       "    </tr>\n",
       "    <tr>\n",
       "      <th>14203</th>\n",
       "      <td>0.294433</td>\n",
       "      <td>0.311393</td>\n",
       "      <td>0.205884</td>\n",
       "      <td>0.708333</td>\n",
       "      <td>NaN</td>\n",
       "      <td>1.0</td>\n",
       "      <td>0.777778</td>\n",
       "      <td>0.625</td>\n",
       "      <td>1.0</td>\n",
       "      <td>0.5</td>\n",
       "      <td>0.333333</td>\n",
       "    </tr>\n",
       "  </tbody>\n",
       "</table>\n",
       "<p>14204 rows × 11 columns</p>\n",
       "</div>"
      ],
      "text/plain": [
       "       Item_Weight  Item_Visibility  Item_MRP  Outlet_Establishment_Year  \\\n",
       "0         0.282525         0.038399  0.927507                   0.583333   \n",
       "1         0.081274         0.048346  0.072068                   1.000000   \n",
       "2         0.770765         0.040593  0.468288                   0.583333   \n",
       "3         0.871986         0.218055  0.640093                   0.541667   \n",
       "4         0.260494         0.186950  0.095805                   0.083333   \n",
       "...            ...              ...       ...                        ...   \n",
       "14199     0.353974         0.030546  0.467004                   0.500000   \n",
       "14200     0.181304         0.429216  0.585126                   1.000000   \n",
       "14201     0.324204         0.215364  0.371199                   0.708333   \n",
       "14202     0.639774         0.188211  0.778154                   0.916667   \n",
       "14203     0.294433         0.311393  0.205884                   0.708333   \n",
       "\n",
       "       Item_Outlet_Sales  Item_Fat_Content_encode  Outlet_Identifier_encode  \\\n",
       "0               0.283587                      0.0                  1.000000   \n",
       "1               0.031419                      1.0                  0.333333   \n",
       "2               0.158115                      0.0                  1.000000   \n",
       "3               0.053555                      1.0                  0.000000   \n",
       "4               0.073651                      0.0                  0.111111   \n",
       "...                  ...                      ...                       ...   \n",
       "14199                NaN                      1.0                  0.888889   \n",
       "14200                NaN                      1.0                  0.333333   \n",
       "14201                NaN                      0.0                  0.777778   \n",
       "14202                NaN                      1.0                  0.222222   \n",
       "14203                NaN                      1.0                  0.777778   \n",
       "\n",
       "       Outlet_Establishment_Year_encode  Outlet_Size_Year_encode  \\\n",
       "0                                 0.500                      0.5   \n",
       "1                                 1.000                      0.5   \n",
       "2                                 0.500                      0.5   \n",
       "3                                 0.375                      0.5   \n",
       "4                                 0.125                      0.0   \n",
       "...                                 ...                      ...   \n",
       "14199                             0.250                      1.0   \n",
       "14200                             1.000                      0.5   \n",
       "14201                             0.625                      1.0   \n",
       "14202                             0.875                      1.0   \n",
       "14203                             0.625                      1.0   \n",
       "\n",
       "       Outlet_Location_Type_encode  Outlet_Type_encode  \n",
       "0                              0.0            0.333333  \n",
       "1                              1.0            0.666667  \n",
       "2                              0.0            0.333333  \n",
       "3                              1.0            0.000000  \n",
       "4                              1.0            0.333333  \n",
       "...                            ...                 ...  \n",
       "14199                          0.0            0.333333  \n",
       "14200                          1.0            0.666667  \n",
       "14201                          0.5            0.333333  \n",
       "14202                          0.5            0.333333  \n",
       "14203                          0.5            0.333333  \n",
       "\n",
       "[14204 rows x 11 columns]"
      ]
     },
     "execution_count": 49,
     "metadata": {},
     "output_type": "execute_result"
    }
   ],
   "source": [
    "scale = 'minmax' #standard\n",
    "df_scaled=feature_scale(scale)\n",
    "df_scaled\n"
   ]
  },
  {
   "cell_type": "markdown",
   "id": "0431891e",
   "metadata": {},
   "source": [
    "## Feature Selection"
   ]
  },
  {
   "cell_type": "code",
   "execution_count": 50,
   "id": "01dae0b3",
   "metadata": {},
   "outputs": [
    {
     "data": {
      "text/html": [
       "<style type=\"text/css\">\n",
       "#T_4d401_row0_col0, #T_4d401_row1_col1, #T_4d401_row2_col2, #T_4d401_row3_col3, #T_4d401_row4_col4, #T_4d401_row5_col5, #T_4d401_row6_col6, #T_4d401_row7_col7, #T_4d401_row8_col8, #T_4d401_row9_col9, #T_4d401_row10_col10 {\n",
       "  background-color: #b40426;\n",
       "  color: #f1f1f1;\n",
       "}\n",
       "#T_4d401_row0_col1, #T_4d401_row0_col4, #T_4d401_row9_col1, #T_4d401_row9_col7 {\n",
       "  background-color: #6384eb;\n",
       "  color: #f1f1f1;\n",
       "}\n",
       "#T_4d401_row0_col2, #T_4d401_row4_col0 {\n",
       "  background-color: #485fd1;\n",
       "  color: #f1f1f1;\n",
       "}\n",
       "#T_4d401_row0_col3, #T_4d401_row2_col3, #T_4d401_row5_col3 {\n",
       "  background-color: #5b7ae5;\n",
       "  color: #f1f1f1;\n",
       "}\n",
       "#T_4d401_row0_col5, #T_4d401_row1_col2, #T_4d401_row1_col4, #T_4d401_row1_col7, #T_4d401_row5_col0, #T_4d401_row6_col9, #T_4d401_row8_col10, #T_4d401_row9_col6, #T_4d401_row9_col8, #T_4d401_row10_col1, #T_4d401_row10_col3 {\n",
       "  background-color: #3b4cc0;\n",
       "  color: #f1f1f1;\n",
       "}\n",
       "#T_4d401_row0_col6, #T_4d401_row5_col9 {\n",
       "  background-color: #c6d6f1;\n",
       "  color: #000000;\n",
       "}\n",
       "#T_4d401_row0_col7, #T_4d401_row2_col7, #T_4d401_row5_col7 {\n",
       "  background-color: #5673e0;\n",
       "  color: #f1f1f1;\n",
       "}\n",
       "#T_4d401_row0_col8 {\n",
       "  background-color: #b7cff9;\n",
       "  color: #000000;\n",
       "}\n",
       "#T_4d401_row0_col9, #T_4d401_row2_col6, #T_4d401_row2_col9, #T_4d401_row5_col6 {\n",
       "  background-color: #c5d6f2;\n",
       "  color: #000000;\n",
       "}\n",
       "#T_4d401_row0_col10, #T_4d401_row10_col8 {\n",
       "  background-color: #7ea1fa;\n",
       "  color: #f1f1f1;\n",
       "}\n",
       "#T_4d401_row1_col0 {\n",
       "  background-color: #3e51c5;\n",
       "  color: #f1f1f1;\n",
       "}\n",
       "#T_4d401_row1_col3, #T_4d401_row2_col5, #T_4d401_row9_col0, #T_4d401_row9_col3 {\n",
       "  background-color: #4358cb;\n",
       "  color: #f1f1f1;\n",
       "}\n",
       "#T_4d401_row1_col5 {\n",
       "  background-color: #536edd;\n",
       "  color: #f1f1f1;\n",
       "}\n",
       "#T_4d401_row1_col6 {\n",
       "  background-color: #b1cbfc;\n",
       "  color: #000000;\n",
       "}\n",
       "#T_4d401_row1_col8 {\n",
       "  background-color: #bcd2f7;\n",
       "  color: #000000;\n",
       "}\n",
       "#T_4d401_row1_col9 {\n",
       "  background-color: #c1d4f4;\n",
       "  color: #000000;\n",
       "}\n",
       "#T_4d401_row1_col10, #T_4d401_row2_col0, #T_4d401_row3_col1, #T_4d401_row4_col7 {\n",
       "  background-color: #4f69d9;\n",
       "  color: #f1f1f1;\n",
       "}\n",
       "#T_4d401_row2_col1 {\n",
       "  background-color: #6687ed;\n",
       "  color: #f1f1f1;\n",
       "}\n",
       "#T_4d401_row2_col4 {\n",
       "  background-color: #f4c6af;\n",
       "  color: #000000;\n",
       "}\n",
       "#T_4d401_row2_col8, #T_4d401_row5_col8 {\n",
       "  background-color: #b6cefa;\n",
       "  color: #000000;\n",
       "}\n",
       "#T_4d401_row2_col10, #T_4d401_row5_col10 {\n",
       "  background-color: #7da0f9;\n",
       "  color: #f1f1f1;\n",
       "}\n",
       "#T_4d401_row3_col0, #T_4d401_row3_col5, #T_4d401_row4_col1, #T_4d401_row6_col5, #T_4d401_row7_col0, #T_4d401_row7_col5, #T_4d401_row8_col0, #T_4d401_row8_col5, #T_4d401_row9_col5, #T_4d401_row10_col0, #T_4d401_row10_col5 {\n",
       "  background-color: #445acc;\n",
       "  color: #f1f1f1;\n",
       "}\n",
       "#T_4d401_row3_col2, #T_4d401_row6_col2, #T_4d401_row7_col2, #T_4d401_row9_col2, #T_4d401_row10_col2 {\n",
       "  background-color: #3d50c3;\n",
       "  color: #f1f1f1;\n",
       "}\n",
       "#T_4d401_row3_col4 {\n",
       "  background-color: #516ddb;\n",
       "  color: #f1f1f1;\n",
       "}\n",
       "#T_4d401_row3_col6 {\n",
       "  background-color: #d3dbe7;\n",
       "  color: #000000;\n",
       "}\n",
       "#T_4d401_row3_col7, #T_4d401_row7_col3 {\n",
       "  background-color: #bd1f2d;\n",
       "  color: #f1f1f1;\n",
       "}\n",
       "#T_4d401_row3_col8 {\n",
       "  background-color: #f6bfa6;\n",
       "  color: #000000;\n",
       "}\n",
       "#T_4d401_row3_col9 {\n",
       "  background-color: #b5cdfa;\n",
       "  color: #000000;\n",
       "}\n",
       "#T_4d401_row3_col10 {\n",
       "  background-color: #5d7ce6;\n",
       "  color: #f1f1f1;\n",
       "}\n",
       "#T_4d401_row4_col2 {\n",
       "  background-color: #edd1c2;\n",
       "  color: #000000;\n",
       "}\n",
       "#T_4d401_row4_col3, #T_4d401_row6_col7, #T_4d401_row8_col4 {\n",
       "  background-color: #4e68d8;\n",
       "  color: #f1f1f1;\n",
       "}\n",
       "#T_4d401_row4_col5 {\n",
       "  background-color: #4961d2;\n",
       "  color: #f1f1f1;\n",
       "}\n",
       "#T_4d401_row4_col6 {\n",
       "  background-color: #e0dbd8;\n",
       "  color: #000000;\n",
       "}\n",
       "#T_4d401_row4_col8 {\n",
       "  background-color: #aac7fd;\n",
       "  color: #000000;\n",
       "}\n",
       "#T_4d401_row4_col9 {\n",
       "  background-color: #d5dbe5;\n",
       "  color: #000000;\n",
       "}\n",
       "#T_4d401_row4_col10 {\n",
       "  background-color: #e3d9d3;\n",
       "  color: #000000;\n",
       "}\n",
       "#T_4d401_row5_col1 {\n",
       "  background-color: #779af7;\n",
       "  color: #f1f1f1;\n",
       "}\n",
       "#T_4d401_row5_col2, #T_4d401_row8_col2 {\n",
       "  background-color: #3c4ec2;\n",
       "  color: #f1f1f1;\n",
       "}\n",
       "#T_4d401_row5_col4 {\n",
       "  background-color: #6485ec;\n",
       "  color: #f1f1f1;\n",
       "}\n",
       "#T_4d401_row6_col0 {\n",
       "  background-color: #455cce;\n",
       "  color: #f1f1f1;\n",
       "}\n",
       "#T_4d401_row6_col1, #T_4d401_row10_col7 {\n",
       "  background-color: #4a63d3;\n",
       "  color: #f1f1f1;\n",
       "}\n",
       "#T_4d401_row6_col3 {\n",
       "  background-color: #7396f5;\n",
       "  color: #f1f1f1;\n",
       "}\n",
       "#T_4d401_row6_col4 {\n",
       "  background-color: #92b4fe;\n",
       "  color: #000000;\n",
       "}\n",
       "#T_4d401_row6_col8 {\n",
       "  background-color: #f5c0a7;\n",
       "  color: #000000;\n",
       "}\n",
       "#T_4d401_row6_col10 {\n",
       "  background-color: #9abbff;\n",
       "  color: #000000;\n",
       "}\n",
       "#T_4d401_row7_col1 {\n",
       "  background-color: #4c66d6;\n",
       "  color: #f1f1f1;\n",
       "}\n",
       "#T_4d401_row7_col4 {\n",
       "  background-color: #5875e1;\n",
       "  color: #f1f1f1;\n",
       "}\n",
       "#T_4d401_row7_col6 {\n",
       "  background-color: #c0d4f5;\n",
       "  color: #000000;\n",
       "}\n",
       "#T_4d401_row7_col8, #T_4d401_row9_col10 {\n",
       "  background-color: #eed0c0;\n",
       "  color: #000000;\n",
       "}\n",
       "#T_4d401_row7_col9 {\n",
       "  background-color: #cdd9ec;\n",
       "  color: #000000;\n",
       "}\n",
       "#T_4d401_row7_col10 {\n",
       "  background-color: #7295f4;\n",
       "  color: #f1f1f1;\n",
       "}\n",
       "#T_4d401_row8_col1 {\n",
       "  background-color: #7093f3;\n",
       "  color: #f1f1f1;\n",
       "}\n",
       "#T_4d401_row8_col3 {\n",
       "  background-color: #dadce0;\n",
       "  color: #000000;\n",
       "}\n",
       "#T_4d401_row8_col6 {\n",
       "  background-color: #f7b89c;\n",
       "  color: #000000;\n",
       "}\n",
       "#T_4d401_row8_col7 {\n",
       "  background-color: #bbd1f8;\n",
       "  color: #000000;\n",
       "}\n",
       "#T_4d401_row8_col9 {\n",
       "  background-color: #506bda;\n",
       "  color: #f1f1f1;\n",
       "}\n",
       "#T_4d401_row9_col4 {\n",
       "  background-color: #7a9df8;\n",
       "  color: #f1f1f1;\n",
       "}\n",
       "#T_4d401_row10_col4, #T_4d401_row10_col6 {\n",
       "  background-color: #d6dce4;\n",
       "  color: #000000;\n",
       "}\n",
       "#T_4d401_row10_col9 {\n",
       "  background-color: #f7b093;\n",
       "  color: #000000;\n",
       "}\n",
       "</style>\n",
       "<table id=\"T_4d401\">\n",
       "  <thead>\n",
       "    <tr>\n",
       "      <th class=\"blank level0\" >&nbsp;</th>\n",
       "      <th id=\"T_4d401_level0_col0\" class=\"col_heading level0 col0\" >Item_Weight</th>\n",
       "      <th id=\"T_4d401_level0_col1\" class=\"col_heading level0 col1\" >Item_Visibility</th>\n",
       "      <th id=\"T_4d401_level0_col2\" class=\"col_heading level0 col2\" >Item_MRP</th>\n",
       "      <th id=\"T_4d401_level0_col3\" class=\"col_heading level0 col3\" >Outlet_Establishment_Year</th>\n",
       "      <th id=\"T_4d401_level0_col4\" class=\"col_heading level0 col4\" >Item_Outlet_Sales</th>\n",
       "      <th id=\"T_4d401_level0_col5\" class=\"col_heading level0 col5\" >Item_Fat_Content_encode</th>\n",
       "      <th id=\"T_4d401_level0_col6\" class=\"col_heading level0 col6\" >Outlet_Identifier_encode</th>\n",
       "      <th id=\"T_4d401_level0_col7\" class=\"col_heading level0 col7\" >Outlet_Establishment_Year_encode</th>\n",
       "      <th id=\"T_4d401_level0_col8\" class=\"col_heading level0 col8\" >Outlet_Size_Year_encode</th>\n",
       "      <th id=\"T_4d401_level0_col9\" class=\"col_heading level0 col9\" >Outlet_Location_Type_encode</th>\n",
       "      <th id=\"T_4d401_level0_col10\" class=\"col_heading level0 col10\" >Outlet_Type_encode</th>\n",
       "    </tr>\n",
       "  </thead>\n",
       "  <tbody>\n",
       "    <tr>\n",
       "      <th id=\"T_4d401_level0_row0\" class=\"row_heading level0 row0\" >Item_Weight</th>\n",
       "      <td id=\"T_4d401_row0_col0\" class=\"data row0 col0\" >1.000000</td>\n",
       "      <td id=\"T_4d401_row0_col1\" class=\"data row0 col1\" >-0.020472</td>\n",
       "      <td id=\"T_4d401_row0_col2\" class=\"data row0 col2\" >0.035751</td>\n",
       "      <td id=\"T_4d401_row0_col3\" class=\"data row0 col3\" >0.000247</td>\n",
       "      <td id=\"T_4d401_row0_col4\" class=\"data row0 col4\" >0.013261</td>\n",
       "      <td id=\"T_4d401_row0_col5\" class=\"data row0 col5\" >-0.033737</td>\n",
       "      <td id=\"T_4d401_row0_col6\" class=\"data row0 col6\" >0.003002</td>\n",
       "      <td id=\"T_4d401_row0_col7\" class=\"data row0 col7\" >0.000301</td>\n",
       "      <td id=\"T_4d401_row0_col8\" class=\"data row0 col8\" >0.000944</td>\n",
       "      <td id=\"T_4d401_row0_col9\" class=\"data row0 col9\" >-0.001719</td>\n",
       "      <td id=\"T_4d401_row0_col10\" class=\"data row0 col10\" >0.001913</td>\n",
       "    </tr>\n",
       "    <tr>\n",
       "      <th id=\"T_4d401_level0_row1\" class=\"row_heading level0 row1\" >Item_Visibility</th>\n",
       "      <td id=\"T_4d401_row1_col0\" class=\"data row1 col0\" >-0.020472</td>\n",
       "      <td id=\"T_4d401_row1_col1\" class=\"data row1 col1\" >1.000000</td>\n",
       "      <td id=\"T_4d401_row1_col2\" class=\"data row1 col2\" >-0.009144</td>\n",
       "      <td id=\"T_4d401_row1_col3\" class=\"data row1 col3\" >-0.090833</td>\n",
       "      <td id=\"T_4d401_row1_col4\" class=\"data row1 col4\" >-0.135247</td>\n",
       "      <td id=\"T_4d401_row1_col5\" class=\"data row1 col5\" >0.048315</td>\n",
       "      <td id=\"T_4d401_row1_col6\" class=\"data row1 col6\" >-0.108731</td>\n",
       "      <td id=\"T_4d401_row1_col7\" class=\"data row1 col7\" >-0.100123</td>\n",
       "      <td id=\"T_4d401_row1_col8\" class=\"data row1 col8\" >0.026808</td>\n",
       "      <td id=\"T_4d401_row1_col9\" class=\"data row1 col9\" >-0.020550</td>\n",
       "      <td id=\"T_4d401_row1_col10\" class=\"data row1 col10\" >-0.172744</td>\n",
       "    </tr>\n",
       "    <tr>\n",
       "      <th id=\"T_4d401_level0_row2\" class=\"row_heading level0 row2\" >Item_MRP</th>\n",
       "      <td id=\"T_4d401_row2_col0\" class=\"data row2 col0\" >0.035751</td>\n",
       "      <td id=\"T_4d401_row2_col1\" class=\"data row2 col1\" >-0.009144</td>\n",
       "      <td id=\"T_4d401_row2_col2\" class=\"data row2 col2\" >1.000000</td>\n",
       "      <td id=\"T_4d401_row2_col3\" class=\"data row2 col3\" >0.000141</td>\n",
       "      <td id=\"T_4d401_row2_col4\" class=\"data row2 col4\" >0.567574</td>\n",
       "      <td id=\"T_4d401_row2_col5\" class=\"data row2 col5\" >-0.004019</td>\n",
       "      <td id=\"T_4d401_row2_col6\" class=\"data row2 col6\" >-0.000555</td>\n",
       "      <td id=\"T_4d401_row2_col7\" class=\"data row2 col7\" >0.000302</td>\n",
       "      <td id=\"T_4d401_row2_col8\" class=\"data row2 col8\" >-0.001305</td>\n",
       "      <td id=\"T_4d401_row2_col9\" class=\"data row2 col9\" >0.000838</td>\n",
       "      <td id=\"T_4d401_row2_col10\" class=\"data row2 col10\" >0.000136</td>\n",
       "    </tr>\n",
       "    <tr>\n",
       "      <th id=\"T_4d401_level0_row3\" class=\"row_heading level0 row3\" >Outlet_Establishment_Year</th>\n",
       "      <td id=\"T_4d401_row3_col0\" class=\"data row3 col0\" >0.000247</td>\n",
       "      <td id=\"T_4d401_row3_col1\" class=\"data row3 col1\" >-0.090833</td>\n",
       "      <td id=\"T_4d401_row3_col2\" class=\"data row3 col2\" >0.000141</td>\n",
       "      <td id=\"T_4d401_row3_col3\" class=\"data row3 col3\" >1.000000</td>\n",
       "      <td id=\"T_4d401_row3_col4\" class=\"data row3 col4\" >-0.049135</td>\n",
       "      <td id=\"T_4d401_row3_col5\" class=\"data row3 col5\" >0.000137</td>\n",
       "      <td id=\"T_4d401_row3_col6\" class=\"data row3 col6\" >0.079047</td>\n",
       "      <td id=\"T_4d401_row3_col7\" class=\"data row3 col7\" >0.970787</td>\n",
       "      <td id=\"T_4d401_row3_col8\" class=\"data row3 col8\" >0.428387</td>\n",
       "      <td id=\"T_4d401_row3_col9\" class=\"data row3 col9\" >-0.089328</td>\n",
       "      <td id=\"T_4d401_row3_col10\" class=\"data row3 col10\" >-0.122519</td>\n",
       "    </tr>\n",
       "    <tr>\n",
       "      <th id=\"T_4d401_level0_row4\" class=\"row_heading level0 row4\" >Item_Outlet_Sales</th>\n",
       "      <td id=\"T_4d401_row4_col0\" class=\"data row4 col0\" >0.013261</td>\n",
       "      <td id=\"T_4d401_row4_col1\" class=\"data row4 col1\" >-0.135247</td>\n",
       "      <td id=\"T_4d401_row4_col2\" class=\"data row4 col2\" >0.567574</td>\n",
       "      <td id=\"T_4d401_row4_col3\" class=\"data row4 col3\" >-0.049135</td>\n",
       "      <td id=\"T_4d401_row4_col4\" class=\"data row4 col4\" >1.000000</td>\n",
       "      <td id=\"T_4d401_row4_col5\" class=\"data row4 col5\" >0.018719</td>\n",
       "      <td id=\"T_4d401_row4_col6\" class=\"data row4 col6\" >0.162325</td>\n",
       "      <td id=\"T_4d401_row4_col7\" class=\"data row4 col7\" >-0.025525</td>\n",
       "      <td id=\"T_4d401_row4_col8\" class=\"data row4 col8\" >-0.060517</td>\n",
       "      <td id=\"T_4d401_row4_col9\" class=\"data row4 col9\" >0.089367</td>\n",
       "      <td id=\"T_4d401_row4_col10\" class=\"data row4 col10\" >0.401522</td>\n",
       "    </tr>\n",
       "    <tr>\n",
       "      <th id=\"T_4d401_level0_row5\" class=\"row_heading level0 row5\" >Item_Fat_Content_encode</th>\n",
       "      <td id=\"T_4d401_row5_col0\" class=\"data row5 col0\" >-0.033737</td>\n",
       "      <td id=\"T_4d401_row5_col1\" class=\"data row5 col1\" >0.048315</td>\n",
       "      <td id=\"T_4d401_row5_col2\" class=\"data row5 col2\" >-0.004019</td>\n",
       "      <td id=\"T_4d401_row5_col3\" class=\"data row5 col3\" >0.000137</td>\n",
       "      <td id=\"T_4d401_row5_col4\" class=\"data row5 col4\" >0.018719</td>\n",
       "      <td id=\"T_4d401_row5_col5\" class=\"data row5 col5\" >1.000000</td>\n",
       "      <td id=\"T_4d401_row5_col6\" class=\"data row5 col6\" >-0.001095</td>\n",
       "      <td id=\"T_4d401_row5_col7\" class=\"data row5 col7\" >0.000142</td>\n",
       "      <td id=\"T_4d401_row5_col8\" class=\"data row5 col8\" >-0.000827</td>\n",
       "      <td id=\"T_4d401_row5_col9\" class=\"data row5 col9\" >0.001373</td>\n",
       "      <td id=\"T_4d401_row5_col10\" class=\"data row5 col10\" >-0.000228</td>\n",
       "    </tr>\n",
       "    <tr>\n",
       "      <th id=\"T_4d401_level0_row6\" class=\"row_heading level0 row6\" >Outlet_Identifier_encode</th>\n",
       "      <td id=\"T_4d401_row6_col0\" class=\"data row6 col0\" >0.003002</td>\n",
       "      <td id=\"T_4d401_row6_col1\" class=\"data row6 col1\" >-0.108731</td>\n",
       "      <td id=\"T_4d401_row6_col2\" class=\"data row6 col2\" >-0.000555</td>\n",
       "      <td id=\"T_4d401_row6_col3\" class=\"data row6 col3\" >0.079047</td>\n",
       "      <td id=\"T_4d401_row6_col4\" class=\"data row6 col4\" >0.162325</td>\n",
       "      <td id=\"T_4d401_row6_col5\" class=\"data row6 col5\" >-0.001095</td>\n",
       "      <td id=\"T_4d401_row6_col6\" class=\"data row6 col6\" >1.000000</td>\n",
       "      <td id=\"T_4d401_row6_col7\" class=\"data row6 col7\" >-0.030948</td>\n",
       "      <td id=\"T_4d401_row6_col8\" class=\"data row6 col8\" >0.423623</td>\n",
       "      <td id=\"T_4d401_row6_col9\" class=\"data row6 col9\" >-0.716151</td>\n",
       "      <td id=\"T_4d401_row6_col10\" class=\"data row6 col10\" >0.099899</td>\n",
       "    </tr>\n",
       "    <tr>\n",
       "      <th id=\"T_4d401_level0_row7\" class=\"row_heading level0 row7\" >Outlet_Establishment_Year_encode</th>\n",
       "      <td id=\"T_4d401_row7_col0\" class=\"data row7 col0\" >0.000301</td>\n",
       "      <td id=\"T_4d401_row7_col1\" class=\"data row7 col1\" >-0.100123</td>\n",
       "      <td id=\"T_4d401_row7_col2\" class=\"data row7 col2\" >0.000302</td>\n",
       "      <td id=\"T_4d401_row7_col3\" class=\"data row7 col3\" >0.970787</td>\n",
       "      <td id=\"T_4d401_row7_col4\" class=\"data row7 col4\" >-0.025525</td>\n",
       "      <td id=\"T_4d401_row7_col5\" class=\"data row7 col5\" >0.000142</td>\n",
       "      <td id=\"T_4d401_row7_col6\" class=\"data row7 col6\" >-0.030948</td>\n",
       "      <td id=\"T_4d401_row7_col7\" class=\"data row7 col7\" >1.000000</td>\n",
       "      <td id=\"T_4d401_row7_col8\" class=\"data row7 col8\" >0.323491</td>\n",
       "      <td id=\"T_4d401_row7_col9\" class=\"data row7 col9\" >0.041889</td>\n",
       "      <td id=\"T_4d401_row7_col10\" class=\"data row7 col10\" >-0.040255</td>\n",
       "    </tr>\n",
       "    <tr>\n",
       "      <th id=\"T_4d401_level0_row8\" class=\"row_heading level0 row8\" >Outlet_Size_Year_encode</th>\n",
       "      <td id=\"T_4d401_row8_col0\" class=\"data row8 col0\" >0.000944</td>\n",
       "      <td id=\"T_4d401_row8_col1\" class=\"data row8 col1\" >0.026808</td>\n",
       "      <td id=\"T_4d401_row8_col2\" class=\"data row8 col2\" >-0.001305</td>\n",
       "      <td id=\"T_4d401_row8_col3\" class=\"data row8 col3\" >0.428387</td>\n",
       "      <td id=\"T_4d401_row8_col4\" class=\"data row8 col4\" >-0.060517</td>\n",
       "      <td id=\"T_4d401_row8_col5\" class=\"data row8 col5\" >-0.000827</td>\n",
       "      <td id=\"T_4d401_row8_col6\" class=\"data row8 col6\" >0.423623</td>\n",
       "      <td id=\"T_4d401_row8_col7\" class=\"data row8 col7\" >0.323491</td>\n",
       "      <td id=\"T_4d401_row8_col8\" class=\"data row8 col8\" >1.000000</td>\n",
       "      <td id=\"T_4d401_row8_col9\" class=\"data row8 col9\" >-0.590677</td>\n",
       "      <td id=\"T_4d401_row8_col10\" class=\"data row8 col10\" >-0.260496</td>\n",
       "    </tr>\n",
       "    <tr>\n",
       "      <th id=\"T_4d401_level0_row9\" class=\"row_heading level0 row9\" >Outlet_Location_Type_encode</th>\n",
       "      <td id=\"T_4d401_row9_col0\" class=\"data row9 col0\" >-0.001719</td>\n",
       "      <td id=\"T_4d401_row9_col1\" class=\"data row9 col1\" >-0.020550</td>\n",
       "      <td id=\"T_4d401_row9_col2\" class=\"data row9 col2\" >0.000838</td>\n",
       "      <td id=\"T_4d401_row9_col3\" class=\"data row9 col3\" >-0.089328</td>\n",
       "      <td id=\"T_4d401_row9_col4\" class=\"data row9 col4\" >0.089367</td>\n",
       "      <td id=\"T_4d401_row9_col5\" class=\"data row9 col5\" >0.001373</td>\n",
       "      <td id=\"T_4d401_row9_col6\" class=\"data row9 col6\" >-0.716151</td>\n",
       "      <td id=\"T_4d401_row9_col7\" class=\"data row9 col7\" >0.041889</td>\n",
       "      <td id=\"T_4d401_row9_col8\" class=\"data row9 col8\" >-0.590677</td>\n",
       "      <td id=\"T_4d401_row9_col9\" class=\"data row9 col9\" >1.000000</td>\n",
       "      <td id=\"T_4d401_row9_col10\" class=\"data row9 col10\" >0.467251</td>\n",
       "    </tr>\n",
       "    <tr>\n",
       "      <th id=\"T_4d401_level0_row10\" class=\"row_heading level0 row10\" >Outlet_Type_encode</th>\n",
       "      <td id=\"T_4d401_row10_col0\" class=\"data row10 col0\" >0.001913</td>\n",
       "      <td id=\"T_4d401_row10_col1\" class=\"data row10 col1\" >-0.172744</td>\n",
       "      <td id=\"T_4d401_row10_col2\" class=\"data row10 col2\" >0.000136</td>\n",
       "      <td id=\"T_4d401_row10_col3\" class=\"data row10 col3\" >-0.122519</td>\n",
       "      <td id=\"T_4d401_row10_col4\" class=\"data row10 col4\" >0.401522</td>\n",
       "      <td id=\"T_4d401_row10_col5\" class=\"data row10 col5\" >-0.000228</td>\n",
       "      <td id=\"T_4d401_row10_col6\" class=\"data row10 col6\" >0.099899</td>\n",
       "      <td id=\"T_4d401_row10_col7\" class=\"data row10 col7\" >-0.040255</td>\n",
       "      <td id=\"T_4d401_row10_col8\" class=\"data row10 col8\" >-0.260496</td>\n",
       "      <td id=\"T_4d401_row10_col9\" class=\"data row10 col9\" >0.467251</td>\n",
       "      <td id=\"T_4d401_row10_col10\" class=\"data row10 col10\" >1.000000</td>\n",
       "    </tr>\n",
       "  </tbody>\n",
       "</table>\n"
      ],
      "text/plain": [
       "<pandas.io.formats.style.Styler at 0x24a5bfa5520>"
      ]
     },
     "execution_count": 50,
     "metadata": {},
     "output_type": "execute_result"
    }
   ],
   "source": [
    "# Finding correlation among numerical features, based on their strong relation we can choose the import\n",
    "\n",
    "corr=df_scaled.corr()\n",
    "corr.style.background_gradient(cmap='coolwarm')"
   ]
  },
  {
   "cell_type": "markdown",
   "id": "0eaaaf5a",
   "metadata": {},
   "source": [
    "### Correlation Heatmap"
   ]
  },
  {
   "cell_type": "code",
   "execution_count": 51,
   "id": "83be2025",
   "metadata": {},
   "outputs": [
    {
     "data": {
      "text/plain": [
       "<AxesSubplot:>"
      ]
     },
     "execution_count": 51,
     "metadata": {},
     "output_type": "execute_result"
    },
    {
     "data": {
      "image/png": "[encoded data removed]",
      "text/plain": [
       "<Figure size 720x504 with 2 Axes>"
      ]
     },
     "metadata": {
      "needs_background": "light"
     },
     "output_type": "display_data"
    }
   ],
   "source": [
    "plt.figure(figsize=(10,7)) \n",
    "sns.heatmap(df_scaled.corr(),annot=True)"
   ]
  },
  {
   "cell_type": "markdown",
   "id": "6a95402d",
   "metadata": {},
   "source": [
    "### SPLITTING THE DATA"
   ]
  },
  {
   "cell_type": "code",
   "execution_count": 52,
   "id": "2040f4d0",
   "metadata": {},
   "outputs": [],
   "source": [
    "train=df_scaled[~df_scaled['Item_Outlet_Sales'].isnull()]"
   ]
  },
  {
   "cell_type": "code",
   "execution_count": 53,
   "id": "5b34f6c2",
   "metadata": {},
   "outputs": [],
   "source": [
    "test=df_scaled[df_scaled['Item_Outlet_Sales'].isnull()]"
   ]
  },
  {
   "cell_type": "code",
   "execution_count": 54,
   "id": "13a4b195",
   "metadata": {},
   "outputs": [],
   "source": [
    "X_train=train.loc[:,('Item_MRP','Outlet_Identifier_encode','Outlet_Type_encode','Item_Visibility')]\n",
    "y_train=train['Item_Outlet_Sales']"
   ]
  },
  {
   "cell_type": "markdown",
   "id": "8361561d",
   "metadata": {},
   "source": [
    "### Creating  the regression model"
   ]
  },
  {
   "cell_type": "code",
   "execution_count": 55,
   "id": "37f37e8b",
   "metadata": {},
   "outputs": [
    {
     "data": {
      "text/html": [
       "<style>#sk-container-id-1 {color: black;background-color: white;}#sk-container-id-1 pre{padding: 0;}#sk-container-id-1 div.sk-toggleable {background-color: white;}#sk-container-id-1 label.sk-toggleable__label {cursor: pointer;display: block;width: 100%;margin-bottom: 0;padding: 0.3em;box-sizing: border-box;text-align: center;}#sk-container-id-1 label.sk-toggleable__label-arrow:before {content: \"▸\";float: left;margin-right: 0.25em;color: #696969;}#sk-container-id-1 label.sk-toggleable__label-arrow:hover:before {color: black;}#sk-container-id-1 div.sk-estimator:hover label.sk-toggleable__label-arrow:before {color: black;}#sk-container-id-1 div.sk-toggleable__content {max-height: 0;max-width: 0;overflow: hidden;text-align: left;background-color: #f0f8ff;}#sk-container-id-1 div.sk-toggleable__content pre {margin: 0.2em;color: black;border-radius: 0.25em;background-color: #f0f8ff;}#sk-container-id-1 input.sk-toggleable__control:checked~div.sk-toggleable__content {max-height: 200px;max-width: 100%;overflow: auto;}#sk-container-id-1 input.sk-toggleable__control:checked~label.sk-toggleable__label-arrow:before {content: \"▾\";}#sk-container-id-1 div.sk-estimator input.sk-toggleable__control:checked~label.sk-toggleable__label {background-color: #d4ebff;}#sk-container-id-1 div.sk-label input.sk-toggleable__control:checked~label.sk-toggleable__label {background-color: #d4ebff;}#sk-container-id-1 input.sk-hidden--visually {border: 0;clip: rect(1px 1px 1px 1px);clip: rect(1px, 1px, 1px, 1px);height: 1px;margin: -1px;overflow: hidden;padding: 0;position: absolute;width: 1px;}#sk-container-id-1 div.sk-estimator {font-family: monospace;background-color: #f0f8ff;border: 1px dotted black;border-radius: 0.25em;box-sizing: border-box;margin-bottom: 0.5em;}#sk-container-id-1 div.sk-estimator:hover {background-color: #d4ebff;}#sk-container-id-1 div.sk-parallel-item::after {content: \"\";width: 100%;border-bottom: 1px solid gray;flex-grow: 1;}#sk-container-id-1 div.sk-label:hover label.sk-toggleable__label {background-color: #d4ebff;}#sk-container-id-1 div.sk-serial::before {content: \"\";position: absolute;border-left: 1px solid gray;box-sizing: border-box;top: 0;bottom: 0;left: 50%;z-index: 0;}#sk-container-id-1 div.sk-serial {display: flex;flex-direction: column;align-items: center;background-color: white;padding-right: 0.2em;padding-left: 0.2em;position: relative;}#sk-container-id-1 div.sk-item {position: relative;z-index: 1;}#sk-container-id-1 div.sk-parallel {display: flex;align-items: stretch;justify-content: center;background-color: white;position: relative;}#sk-container-id-1 div.sk-item::before, #sk-container-id-1 div.sk-parallel-item::before {content: \"\";position: absolute;border-left: 1px solid gray;box-sizing: border-box;top: 0;bottom: 0;left: 50%;z-index: -1;}#sk-container-id-1 div.sk-parallel-item {display: flex;flex-direction: column;z-index: 1;position: relative;background-color: white;}#sk-container-id-1 div.sk-parallel-item:first-child::after {align-self: flex-end;width: 50%;}#sk-container-id-1 div.sk-parallel-item:last-child::after {align-self: flex-start;width: 50%;}#sk-container-id-1 div.sk-parallel-item:only-child::after {width: 0;}#sk-container-id-1 div.sk-dashed-wrapped {border: 1px dashed gray;margin: 0 0.4em 0.5em 0.4em;box-sizing: border-box;padding-bottom: 0.4em;background-color: white;}#sk-container-id-1 div.sk-label label {font-family: monospace;font-weight: bold;display: inline-block;line-height: 1.2em;}#sk-container-id-1 div.sk-label-container {text-align: center;}#sk-container-id-1 div.sk-container {/* jupyter's `normalize.less` sets `[hidden] { display: none; }` but bootstrap.min.css set `[hidden] { display: none !important; }` so we also need the `!important` here to be able to override the default hidden behavior on the sphinx rendered scikit-learn.org. See: https://github.com/scikit-learn/scikit-learn/issues/21755 */display: inline-block !important;position: relative;}#sk-container-id-1 div.sk-text-repr-fallback {display: none;}</style><div id=\"sk-container-id-1\" class=\"sk-top-container\"><div class=\"sk-text-repr-fallback\"><pre>LinearRegression()</pre><b>In a Jupyter environment, please rerun this cell to show the HTML representation or trust the notebook. <br />On GitHub, the HTML representation is unable to render, please try loading this page with nbviewer.org.</b></div><div class=\"sk-container\" hidden><div class=\"sk-item\"><div class=\"sk-estimator sk-toggleable\"><input class=\"sk-toggleable__control sk-hidden--visually\" id=\"sk-estimator-id-1\" type=\"checkbox\" checked><label for=\"sk-estimator-id-1\" class=\"sk-toggleable__label sk-toggleable__label-arrow\">LinearRegression</label><div class=\"sk-toggleable__content\"><pre>LinearRegression()</pre></div></div></div></div></div>"
      ],
      "text/plain": [
       "LinearRegression()"
      ]
     },
     "execution_count": 55,
     "metadata": {},
     "output_type": "execute_result"
    }
   ],
   "source": [
    "reg = LinearRegression()\n",
    "# Fit the regression with the scaled TRAIN inputs and targets\n",
    "reg.fit(X_train,y_train)"
   ]
  },
  {
   "cell_type": "code",
   "execution_count": 56,
   "id": "6ce43c42",
   "metadata": {},
   "outputs": [
    {
     "name": "stdout",
     "output_type": "stream",
     "text": [
      "coefficient of determination: 0.5014022094437659\n"
     ]
    }
   ],
   "source": [
    "c_r_sq=reg.score(X_train, y_train)\n",
    "print('coefficient of determination:', c_r_sq)"
   ]
  },
  {
   "cell_type": "markdown",
   "id": "b98a8b26",
   "metadata": {},
   "source": [
    "### Intercept"
   ]
  },
  {
   "cell_type": "code",
   "execution_count": 57,
   "id": "570c5968",
   "metadata": {},
   "outputs": [
    {
     "data": {
      "text/plain": [
       "-0.057653827537268054"
      ]
     },
     "execution_count": 57,
     "metadata": {},
     "output_type": "execute_result"
    }
   ],
   "source": [
    "reg.intercept_   #intercept=the expected mean value of Y when all X=0."
   ]
  },
  {
   "cell_type": "markdown",
   "id": "f39812d6",
   "metadata": {},
   "source": [
    "### Obtain the (coefficients) of the regression"
   ]
  },
  {
   "cell_type": "code",
   "execution_count": 58,
   "id": "ac535533",
   "metadata": {},
   "outputs": [
    {
     "data": {
      "text/plain": [
       "array([ 0.28073966,  0.04846639,  0.1880006 , -0.0447818 ])"
      ]
     },
     "execution_count": 58,
     "metadata": {},
     "output_type": "execute_result"
    }
   ],
   "source": [
    "reg.coef_"
   ]
  },
  {
   "cell_type": "markdown",
   "id": "1fee4a1f",
   "metadata": {},
   "source": [
    "### Testing the model"
   ]
  },
  {
   "cell_type": "code",
   "execution_count": 63,
   "id": "482f06f7",
   "metadata": {},
   "outputs": [],
   "source": [
    "X_test=test.loc[:,('Item_MRP','Outlet_Identifier_encode','Outlet_Type_encode','Item_Visibility')]\n",
    "y_test=test['Item_Outlet_Sales']"
   ]
  },
  {
   "cell_type": "code",
   "execution_count": 66,
   "id": "6e0cfea9",
   "metadata": {},
   "outputs": [],
   "source": [
    "y_hat_test = reg.predict(X_train)"
   ]
  },
  {
   "cell_type": "code",
   "execution_count": 67,
   "id": "b419027f",
   "metadata": {},
   "outputs": [
    {
     "data": {
      "text/html": [
       "<div>\n",
       "<style scoped>\n",
       "    .dataframe tbody tr th:only-of-type {\n",
       "        vertical-align: middle;\n",
       "    }\n",
       "\n",
       "    .dataframe tbody tr th {\n",
       "        vertical-align: top;\n",
       "    }\n",
       "\n",
       "    .dataframe thead th {\n",
       "        text-align: right;\n",
       "    }\n",
       "</style>\n",
       "<table border=\"1\" class=\"dataframe\">\n",
       "  <thead>\n",
       "    <tr style=\"text-align: right;\">\n",
       "      <th></th>\n",
       "      <th>Prediction</th>\n",
       "    </tr>\n",
       "  </thead>\n",
       "  <tbody>\n",
       "    <tr>\n",
       "      <th>0</th>\n",
       "      <td>1.366357</td>\n",
       "    </tr>\n",
       "    <tr>\n",
       "      <th>1</th>\n",
       "      <td>1.107276</td>\n",
       "    </tr>\n",
       "    <tr>\n",
       "      <th>2</th>\n",
       "      <td>1.200969</td>\n",
       "    </tr>\n",
       "    <tr>\n",
       "      <th>3</th>\n",
       "      <td>1.118827</td>\n",
       "    </tr>\n",
       "    <tr>\n",
       "      <th>4</th>\n",
       "      <td>1.029345</td>\n",
       "    </tr>\n",
       "  </tbody>\n",
       "</table>\n",
       "</div>"
      ],
      "text/plain": [
       "   Prediction\n",
       "0    1.366357\n",
       "1    1.107276\n",
       "2    1.200969\n",
       "3    1.118827\n",
       "4    1.029345"
      ]
     },
     "execution_count": 67,
     "metadata": {},
     "output_type": "execute_result"
    }
   ],
   "source": [
    "df_pf = pd.DataFrame(np.exp(y_hat_test), columns=['Prediction'])\n",
    "df_pf.head()"
   ]
  },
  {
   "cell_type": "code",
   "execution_count": 68,
   "id": "dcc1b882",
   "metadata": {},
   "outputs": [
    {
     "data": {
      "text/plain": [
       "(8523,)"
      ]
     },
     "execution_count": 68,
     "metadata": {},
     "output_type": "execute_result"
    }
   ],
   "source": [
    "y_train.shape"
   ]
  },
  {
   "cell_type": "code",
   "execution_count": 69,
   "id": "31239ace",
   "metadata": {},
   "outputs": [
    {
     "name": "stdout",
     "output_type": "stream",
     "text": [
      "0.5014022094437659\n",
      "0.09230454827131684\n"
     ]
    }
   ],
   "source": [
    "rf_score=reg.score(X_train,y_train)\n",
    "rf_rmse=np.sqrt(mean_squared_error(y_train,y_hat_test))\n",
    "print(rf_score)\n",
    "print(rf_rmse) # lower values of rmse is good.RMSE is a good measure of how accurately the model predicts the response. \n",
    "            # (Root Mean Square Error)"
   ]
  },
  {
   "cell_type": "markdown",
   "id": "c2a0d43e",
   "metadata": {},
   "source": [
    "## Build Random Forest Model"
   ]
  },
  {
   "cell_type": "markdown",
   "id": "dc8ca2fa",
   "metadata": {},
   "source": [
    "#### A Random Forest Algorithm is a supervised machine learning algorithm which is extremely popular and is used for Classification and Regression problems in Machine Learning. We know that a forest comprises numerous trees, and the more trees more it will be robust."
   ]
  },
  {
   "cell_type": "code",
   "execution_count": 70,
   "id": "58f82c6c",
   "metadata": {},
   "outputs": [],
   "source": [
    "from sklearn.ensemble import RandomForestRegressor\n",
    "from sklearn.metrics import mean_squared_error\n",
    "# Instantiate the grid search model\n",
    "from sklearn.model_selection import GridSearchCV\n",
    "from sklearn.metrics import mean_absolute_error"
   ]
  },
  {
   "cell_type": "code",
   "execution_count": 71,
   "id": "9ec8dbf1",
   "metadata": {},
   "outputs": [],
   "source": [
    "X_train=train.loc[:,('Item_MRP','Outlet_Identifier_encode','Outlet_Type_encode','Item_Visibility')]\n",
    "y_train=train['Item_Outlet_Sales']"
   ]
  },
  {
   "cell_type": "code",
   "execution_count": 72,
   "id": "625735fc",
   "metadata": {},
   "outputs": [
    {
     "data": {
      "text/html": [
       "<style>#sk-container-id-2 {color: black;background-color: white;}#sk-container-id-2 pre{padding: 0;}#sk-container-id-2 div.sk-toggleable {background-color: white;}#sk-container-id-2 label.sk-toggleable__label {cursor: pointer;display: block;width: 100%;margin-bottom: 0;padding: 0.3em;box-sizing: border-box;text-align: center;}#sk-container-id-2 label.sk-toggleable__label-arrow:before {content: \"▸\";float: left;margin-right: 0.25em;color: #696969;}#sk-container-id-2 label.sk-toggleable__label-arrow:hover:before {color: black;}#sk-container-id-2 div.sk-estimator:hover label.sk-toggleable__label-arrow:before {color: black;}#sk-container-id-2 div.sk-toggleable__content {max-height: 0;max-width: 0;overflow: hidden;text-align: left;background-color: #f0f8ff;}#sk-container-id-2 div.sk-toggleable__content pre {margin: 0.2em;color: black;border-radius: 0.25em;background-color: #f0f8ff;}#sk-container-id-2 input.sk-toggleable__control:checked~div.sk-toggleable__content {max-height: 200px;max-width: 100%;overflow: auto;}#sk-container-id-2 input.sk-toggleable__control:checked~label.sk-toggleable__label-arrow:before {content: \"▾\";}#sk-container-id-2 div.sk-estimator input.sk-toggleable__control:checked~label.sk-toggleable__label {background-color: #d4ebff;}#sk-container-id-2 div.sk-label input.sk-toggleable__control:checked~label.sk-toggleable__label {background-color: #d4ebff;}#sk-container-id-2 input.sk-hidden--visually {border: 0;clip: rect(1px 1px 1px 1px);clip: rect(1px, 1px, 1px, 1px);height: 1px;margin: -1px;overflow: hidden;padding: 0;position: absolute;width: 1px;}#sk-container-id-2 div.sk-estimator {font-family: monospace;background-color: #f0f8ff;border: 1px dotted black;border-radius: 0.25em;box-sizing: border-box;margin-bottom: 0.5em;}#sk-container-id-2 div.sk-estimator:hover {background-color: #d4ebff;}#sk-container-id-2 div.sk-parallel-item::after {content: \"\";width: 100%;border-bottom: 1px solid gray;flex-grow: 1;}#sk-container-id-2 div.sk-label:hover label.sk-toggleable__label {background-color: #d4ebff;}#sk-container-id-2 div.sk-serial::before {content: \"\";position: absolute;border-left: 1px solid gray;box-sizing: border-box;top: 0;bottom: 0;left: 50%;z-index: 0;}#sk-container-id-2 div.sk-serial {display: flex;flex-direction: column;align-items: center;background-color: white;padding-right: 0.2em;padding-left: 0.2em;position: relative;}#sk-container-id-2 div.sk-item {position: relative;z-index: 1;}#sk-container-id-2 div.sk-parallel {display: flex;align-items: stretch;justify-content: center;background-color: white;position: relative;}#sk-container-id-2 div.sk-item::before, #sk-container-id-2 div.sk-parallel-item::before {content: \"\";position: absolute;border-left: 1px solid gray;box-sizing: border-box;top: 0;bottom: 0;left: 50%;z-index: -1;}#sk-container-id-2 div.sk-parallel-item {display: flex;flex-direction: column;z-index: 1;position: relative;background-color: white;}#sk-container-id-2 div.sk-parallel-item:first-child::after {align-self: flex-end;width: 50%;}#sk-container-id-2 div.sk-parallel-item:last-child::after {align-self: flex-start;width: 50%;}#sk-container-id-2 div.sk-parallel-item:only-child::after {width: 0;}#sk-container-id-2 div.sk-dashed-wrapped {border: 1px dashed gray;margin: 0 0.4em 0.5em 0.4em;box-sizing: border-box;padding-bottom: 0.4em;background-color: white;}#sk-container-id-2 div.sk-label label {font-family: monospace;font-weight: bold;display: inline-block;line-height: 1.2em;}#sk-container-id-2 div.sk-label-container {text-align: center;}#sk-container-id-2 div.sk-container {/* jupyter's `normalize.less` sets `[hidden] { display: none; }` but bootstrap.min.css set `[hidden] { display: none !important; }` so we also need the `!important` here to be able to override the default hidden behavior on the sphinx rendered scikit-learn.org. See: https://github.com/scikit-learn/scikit-learn/issues/21755 */display: inline-block !important;position: relative;}#sk-container-id-2 div.sk-text-repr-fallback {display: none;}</style><div id=\"sk-container-id-2\" class=\"sk-top-container\"><div class=\"sk-text-repr-fallback\"><pre>RandomForestRegressor(n_jobs=-1, random_state=1)</pre><b>In a Jupyter environment, please rerun this cell to show the HTML representation or trust the notebook. <br />On GitHub, the HTML representation is unable to render, please try loading this page with nbviewer.org.</b></div><div class=\"sk-container\" hidden><div class=\"sk-item\"><div class=\"sk-estimator sk-toggleable\"><input class=\"sk-toggleable__control sk-hidden--visually\" id=\"sk-estimator-id-2\" type=\"checkbox\" checked><label for=\"sk-estimator-id-2\" class=\"sk-toggleable__label sk-toggleable__label-arrow\">RandomForestRegressor</label><div class=\"sk-toggleable__content\"><pre>RandomForestRegressor(n_jobs=-1, random_state=1)</pre></div></div></div></div></div>"
      ],
      "text/plain": [
       "RandomForestRegressor(n_jobs=-1, random_state=1)"
      ]
     },
     "execution_count": 72,
     "metadata": {},
     "output_type": "execute_result"
    }
   ],
   "source": [
    "forest=RandomForestRegressor(n_estimators=100,criterion='squared_error',random_state=1,n_jobs=-1)\n",
    "forest.fit(X_train,y_train)"
   ]
  },
  {
   "cell_type": "code",
   "execution_count": 73,
   "id": "8037dde5",
   "metadata": {},
   "outputs": [],
   "source": [
    "X_test=test.loc[:,('Item_MRP','Outlet_Identifier_encode','Outlet_Type_encode','Item_Visibility')]\n",
    "y_test=test['Item_Outlet_Sales']"
   ]
  },
  {
   "cell_type": "code",
   "execution_count": 74,
   "id": "fd046f03",
   "metadata": {},
   "outputs": [
    {
     "data": {
      "text/plain": [
       "array([0.13560288, 0.07530654, 0.03573447, ..., 0.13563348, 0.26190656,\n",
       "       0.12205294])"
      ]
     },
     "execution_count": 74,
     "metadata": {},
     "output_type": "execute_result"
    }
   ],
   "source": [
    "y_pred_test=forest.predict(X_test)\n",
    "y_pred_test"
   ]
  },
  {
   "cell_type": "markdown",
   "id": "e2bce784",
   "metadata": {},
   "source": [
    "## Hyperparameter tuning for Random Forest using GridSearchCV and fit the data\n"
   ]
  },
  {
   "cell_type": "markdown",
   "id": "d9f542fa",
   "metadata": {},
   "source": [
    "#### It can give you optimized values for hyperparameters, which maximizes your model's predictive accuracy.\n"
   ]
  },
  {
   "cell_type": "code",
   "execution_count": 75,
   "id": "bba9904d",
   "metadata": {},
   "outputs": [],
   "source": [
    "rf = RandomForestRegressor(random_state=42, n_jobs=-1) #n_jobs=-1 means that the computation will be dispatched on all the CPUs of the computer."
   ]
  },
  {
   "cell_type": "code",
   "execution_count": 76,
   "id": "79edbd32",
   "metadata": {},
   "outputs": [],
   "source": [
    "params = {\n",
    "    'max_depth': [2,3,5,10,20],\n",
    "    'min_samples_leaf': [5,10,20,50,100,200],\n",
    "    'n_estimators': [10,25,30,50,100,200]}"
   ]
  },
  {
   "cell_type": "code",
   "execution_count": 77,
   "id": "6f60e4ff",
   "metadata": {},
   "outputs": [],
   "source": [
    "grid_search = GridSearchCV(estimator=rf,\n",
    "                           param_grid=params,\n",
    "                           cv = 4,\n",
    "                           n_jobs=-1, verbose=1, scoring=\"r2\")"
   ]
  },
  {
   "cell_type": "code",
   "execution_count": 78,
   "id": "dc222ab7",
   "metadata": {},
   "outputs": [
    {
     "name": "stdout",
     "output_type": "stream",
     "text": [
      "Fitting 4 folds for each of 180 candidates, totalling 720 fits\n",
      "CPU times: total: 5.81 s\n",
      "Wall time: 2min 24s\n"
     ]
    },
    {
     "data": {
      "text/html": [
       "<style>#sk-container-id-3 {color: black;background-color: white;}#sk-container-id-3 pre{padding: 0;}#sk-container-id-3 div.sk-toggleable {background-color: white;}#sk-container-id-3 label.sk-toggleable__label {cursor: pointer;display: block;width: 100%;margin-bottom: 0;padding: 0.3em;box-sizing: border-box;text-align: center;}#sk-container-id-3 label.sk-toggleable__label-arrow:before {content: \"▸\";float: left;margin-right: 0.25em;color: #696969;}#sk-container-id-3 label.sk-toggleable__label-arrow:hover:before {color: black;}#sk-container-id-3 div.sk-estimator:hover label.sk-toggleable__label-arrow:before {color: black;}#sk-container-id-3 div.sk-toggleable__content {max-height: 0;max-width: 0;overflow: hidden;text-align: left;background-color: #f0f8ff;}#sk-container-id-3 div.sk-toggleable__content pre {margin: 0.2em;color: black;border-radius: 0.25em;background-color: #f0f8ff;}#sk-container-id-3 input.sk-toggleable__control:checked~div.sk-toggleable__content {max-height: 200px;max-width: 100%;overflow: auto;}#sk-container-id-3 input.sk-toggleable__control:checked~label.sk-toggleable__label-arrow:before {content: \"▾\";}#sk-container-id-3 div.sk-estimator input.sk-toggleable__control:checked~label.sk-toggleable__label {background-color: #d4ebff;}#sk-container-id-3 div.sk-label input.sk-toggleable__control:checked~label.sk-toggleable__label {background-color: #d4ebff;}#sk-container-id-3 input.sk-hidden--visually {border: 0;clip: rect(1px 1px 1px 1px);clip: rect(1px, 1px, 1px, 1px);height: 1px;margin: -1px;overflow: hidden;padding: 0;position: absolute;width: 1px;}#sk-container-id-3 div.sk-estimator {font-family: monospace;background-color: #f0f8ff;border: 1px dotted black;border-radius: 0.25em;box-sizing: border-box;margin-bottom: 0.5em;}#sk-container-id-3 div.sk-estimator:hover {background-color: #d4ebff;}#sk-container-id-3 div.sk-parallel-item::after {content: \"\";width: 100%;border-bottom: 1px solid gray;flex-grow: 1;}#sk-container-id-3 div.sk-label:hover label.sk-toggleable__label {background-color: #d4ebff;}#sk-container-id-3 div.sk-serial::before {content: \"\";position: absolute;border-left: 1px solid gray;box-sizing: border-box;top: 0;bottom: 0;left: 50%;z-index: 0;}#sk-container-id-3 div.sk-serial {display: flex;flex-direction: column;align-items: center;background-color: white;padding-right: 0.2em;padding-left: 0.2em;position: relative;}#sk-container-id-3 div.sk-item {position: relative;z-index: 1;}#sk-container-id-3 div.sk-parallel {display: flex;align-items: stretch;justify-content: center;background-color: white;position: relative;}#sk-container-id-3 div.sk-item::before, #sk-container-id-3 div.sk-parallel-item::before {content: \"\";position: absolute;border-left: 1px solid gray;box-sizing: border-box;top: 0;bottom: 0;left: 50%;z-index: -1;}#sk-container-id-3 div.sk-parallel-item {display: flex;flex-direction: column;z-index: 1;position: relative;background-color: white;}#sk-container-id-3 div.sk-parallel-item:first-child::after {align-self: flex-end;width: 50%;}#sk-container-id-3 div.sk-parallel-item:last-child::after {align-self: flex-start;width: 50%;}#sk-container-id-3 div.sk-parallel-item:only-child::after {width: 0;}#sk-container-id-3 div.sk-dashed-wrapped {border: 1px dashed gray;margin: 0 0.4em 0.5em 0.4em;box-sizing: border-box;padding-bottom: 0.4em;background-color: white;}#sk-container-id-3 div.sk-label label {font-family: monospace;font-weight: bold;display: inline-block;line-height: 1.2em;}#sk-container-id-3 div.sk-label-container {text-align: center;}#sk-container-id-3 div.sk-container {/* jupyter's `normalize.less` sets `[hidden] { display: none; }` but bootstrap.min.css set `[hidden] { display: none !important; }` so we also need the `!important` here to be able to override the default hidden behavior on the sphinx rendered scikit-learn.org. See: https://github.com/scikit-learn/scikit-learn/issues/21755 */display: inline-block !important;position: relative;}#sk-container-id-3 div.sk-text-repr-fallback {display: none;}</style><div id=\"sk-container-id-3\" class=\"sk-top-container\"><div class=\"sk-text-repr-fallback\"><pre>GridSearchCV(cv=4, estimator=RandomForestRegressor(n_jobs=-1, random_state=42),\n",
       "             n_jobs=-1,\n",
       "             param_grid={&#x27;max_depth&#x27;: [2, 3, 5, 10, 20],\n",
       "                         &#x27;min_samples_leaf&#x27;: [5, 10, 20, 50, 100, 200],\n",
       "                         &#x27;n_estimators&#x27;: [10, 25, 30, 50, 100, 200]},\n",
       "             scoring=&#x27;r2&#x27;, verbose=1)</pre><b>In a Jupyter environment, please rerun this cell to show the HTML representation or trust the notebook. <br />On GitHub, the HTML representation is unable to render, please try loading this page with nbviewer.org.</b></div><div class=\"sk-container\" hidden><div class=\"sk-item sk-dashed-wrapped\"><div class=\"sk-label-container\"><div class=\"sk-label sk-toggleable\"><input class=\"sk-toggleable__control sk-hidden--visually\" id=\"sk-estimator-id-3\" type=\"checkbox\" ><label for=\"sk-estimator-id-3\" class=\"sk-toggleable__label sk-toggleable__label-arrow\">GridSearchCV</label><div class=\"sk-toggleable__content\"><pre>GridSearchCV(cv=4, estimator=RandomForestRegressor(n_jobs=-1, random_state=42),\n",
       "             n_jobs=-1,\n",
       "             param_grid={&#x27;max_depth&#x27;: [2, 3, 5, 10, 20],\n",
       "                         &#x27;min_samples_leaf&#x27;: [5, 10, 20, 50, 100, 200],\n",
       "                         &#x27;n_estimators&#x27;: [10, 25, 30, 50, 100, 200]},\n",
       "             scoring=&#x27;r2&#x27;, verbose=1)</pre></div></div></div><div class=\"sk-parallel\"><div class=\"sk-parallel-item\"><div class=\"sk-item\"><div class=\"sk-label-container\"><div class=\"sk-label sk-toggleable\"><input class=\"sk-toggleable__control sk-hidden--visually\" id=\"sk-estimator-id-4\" type=\"checkbox\" ><label for=\"sk-estimator-id-4\" class=\"sk-toggleable__label sk-toggleable__label-arrow\">estimator: RandomForestRegressor</label><div class=\"sk-toggleable__content\"><pre>RandomForestRegressor(n_jobs=-1, random_state=42)</pre></div></div></div><div class=\"sk-serial\"><div class=\"sk-item\"><div class=\"sk-estimator sk-toggleable\"><input class=\"sk-toggleable__control sk-hidden--visually\" id=\"sk-estimator-id-5\" type=\"checkbox\" ><label for=\"sk-estimator-id-5\" class=\"sk-toggleable__label sk-toggleable__label-arrow\">RandomForestRegressor</label><div class=\"sk-toggleable__content\"><pre>RandomForestRegressor(n_jobs=-1, random_state=42)</pre></div></div></div></div></div></div></div></div></div></div>"
      ],
      "text/plain": [
       "GridSearchCV(cv=4, estimator=RandomForestRegressor(n_jobs=-1, random_state=42),\n",
       "             n_jobs=-1,\n",
       "             param_grid={'max_depth': [2, 3, 5, 10, 20],\n",
       "                         'min_samples_leaf': [5, 10, 20, 50, 100, 200],\n",
       "                         'n_estimators': [10, 25, 30, 50, 100, 200]},\n",
       "             scoring='r2', verbose=1)"
      ]
     },
     "execution_count": 78,
     "metadata": {},
     "output_type": "execute_result"
    }
   ],
   "source": [
    "%%time\n",
    "grid_search.fit(X_train, y_train)"
   ]
  },
  {
   "cell_type": "code",
   "execution_count": 79,
   "id": "c06d747b",
   "metadata": {},
   "outputs": [
    {
     "data": {
      "text/plain": [
       "0.5963401498843797"
      ]
     },
     "execution_count": 79,
     "metadata": {},
     "output_type": "execute_result"
    }
   ],
   "source": [
    "grid_search.best_score_"
   ]
  },
  {
   "cell_type": "code",
   "execution_count": 80,
   "id": "c277fa4c",
   "metadata": {},
   "outputs": [
    {
     "data": {
      "text/html": [
       "<style>#sk-container-id-4 {color: black;background-color: white;}#sk-container-id-4 pre{padding: 0;}#sk-container-id-4 div.sk-toggleable {background-color: white;}#sk-container-id-4 label.sk-toggleable__label {cursor: pointer;display: block;width: 100%;margin-bottom: 0;padding: 0.3em;box-sizing: border-box;text-align: center;}#sk-container-id-4 label.sk-toggleable__label-arrow:before {content: \"▸\";float: left;margin-right: 0.25em;color: #696969;}#sk-container-id-4 label.sk-toggleable__label-arrow:hover:before {color: black;}#sk-container-id-4 div.sk-estimator:hover label.sk-toggleable__label-arrow:before {color: black;}#sk-container-id-4 div.sk-toggleable__content {max-height: 0;max-width: 0;overflow: hidden;text-align: left;background-color: #f0f8ff;}#sk-container-id-4 div.sk-toggleable__content pre {margin: 0.2em;color: black;border-radius: 0.25em;background-color: #f0f8ff;}#sk-container-id-4 input.sk-toggleable__control:checked~div.sk-toggleable__content {max-height: 200px;max-width: 100%;overflow: auto;}#sk-container-id-4 input.sk-toggleable__control:checked~label.sk-toggleable__label-arrow:before {content: \"▾\";}#sk-container-id-4 div.sk-estimator input.sk-toggleable__control:checked~label.sk-toggleable__label {background-color: #d4ebff;}#sk-container-id-4 div.sk-label input.sk-toggleable__control:checked~label.sk-toggleable__label {background-color: #d4ebff;}#sk-container-id-4 input.sk-hidden--visually {border: 0;clip: rect(1px 1px 1px 1px);clip: rect(1px, 1px, 1px, 1px);height: 1px;margin: -1px;overflow: hidden;padding: 0;position: absolute;width: 1px;}#sk-container-id-4 div.sk-estimator {font-family: monospace;background-color: #f0f8ff;border: 1px dotted black;border-radius: 0.25em;box-sizing: border-box;margin-bottom: 0.5em;}#sk-container-id-4 div.sk-estimator:hover {background-color: #d4ebff;}#sk-container-id-4 div.sk-parallel-item::after {content: \"\";width: 100%;border-bottom: 1px solid gray;flex-grow: 1;}#sk-container-id-4 div.sk-label:hover label.sk-toggleable__label {background-color: #d4ebff;}#sk-container-id-4 div.sk-serial::before {content: \"\";position: absolute;border-left: 1px solid gray;box-sizing: border-box;top: 0;bottom: 0;left: 50%;z-index: 0;}#sk-container-id-4 div.sk-serial {display: flex;flex-direction: column;align-items: center;background-color: white;padding-right: 0.2em;padding-left: 0.2em;position: relative;}#sk-container-id-4 div.sk-item {position: relative;z-index: 1;}#sk-container-id-4 div.sk-parallel {display: flex;align-items: stretch;justify-content: center;background-color: white;position: relative;}#sk-container-id-4 div.sk-item::before, #sk-container-id-4 div.sk-parallel-item::before {content: \"\";position: absolute;border-left: 1px solid gray;box-sizing: border-box;top: 0;bottom: 0;left: 50%;z-index: -1;}#sk-container-id-4 div.sk-parallel-item {display: flex;flex-direction: column;z-index: 1;position: relative;background-color: white;}#sk-container-id-4 div.sk-parallel-item:first-child::after {align-self: flex-end;width: 50%;}#sk-container-id-4 div.sk-parallel-item:last-child::after {align-self: flex-start;width: 50%;}#sk-container-id-4 div.sk-parallel-item:only-child::after {width: 0;}#sk-container-id-4 div.sk-dashed-wrapped {border: 1px dashed gray;margin: 0 0.4em 0.5em 0.4em;box-sizing: border-box;padding-bottom: 0.4em;background-color: white;}#sk-container-id-4 div.sk-label label {font-family: monospace;font-weight: bold;display: inline-block;line-height: 1.2em;}#sk-container-id-4 div.sk-label-container {text-align: center;}#sk-container-id-4 div.sk-container {/* jupyter's `normalize.less` sets `[hidden] { display: none; }` but bootstrap.min.css set `[hidden] { display: none !important; }` so we also need the `!important` here to be able to override the default hidden behavior on the sphinx rendered scikit-learn.org. See: https://github.com/scikit-learn/scikit-learn/issues/21755 */display: inline-block !important;position: relative;}#sk-container-id-4 div.sk-text-repr-fallback {display: none;}</style><div id=\"sk-container-id-4\" class=\"sk-top-container\"><div class=\"sk-text-repr-fallback\"><pre>RandomForestRegressor(max_depth=20, min_samples_leaf=50, n_estimators=200,\n",
       "                      n_jobs=-1, random_state=42)</pre><b>In a Jupyter environment, please rerun this cell to show the HTML representation or trust the notebook. <br />On GitHub, the HTML representation is unable to render, please try loading this page with nbviewer.org.</b></div><div class=\"sk-container\" hidden><div class=\"sk-item\"><div class=\"sk-estimator sk-toggleable\"><input class=\"sk-toggleable__control sk-hidden--visually\" id=\"sk-estimator-id-6\" type=\"checkbox\" checked><label for=\"sk-estimator-id-6\" class=\"sk-toggleable__label sk-toggleable__label-arrow\">RandomForestRegressor</label><div class=\"sk-toggleable__content\"><pre>RandomForestRegressor(max_depth=20, min_samples_leaf=50, n_estimators=200,\n",
       "                      n_jobs=-1, random_state=42)</pre></div></div></div></div></div>"
      ],
      "text/plain": [
       "RandomForestRegressor(max_depth=20, min_samples_leaf=50, n_estimators=200,\n",
       "                      n_jobs=-1, random_state=42)"
      ]
     },
     "execution_count": 80,
     "metadata": {},
     "output_type": "execute_result"
    }
   ],
   "source": [
    "rf_best=grid_search.best_estimator_\n",
    "rf_best"
   ]
  },
  {
   "cell_type": "code",
   "execution_count": 81,
   "id": "7412a508",
   "metadata": {},
   "outputs": [
    {
     "name": "stdout",
     "output_type": "stream",
     "text": [
      "0.9365054604707365\n",
      "0.032939432711107684\n"
     ]
    }
   ],
   "source": [
    "y_hat_test3 = forest.predict(X_train)\n",
    "\n",
    "\n",
    "rf_score=forest.score(X_train,y_train)\n",
    "rf_rmse=np.sqrt(mean_squared_error(y_train,y_hat_test3))\n",
    "print(rf_score)\n",
    "print(rf_rmse)"
   ]
  },
  {
   "cell_type": "markdown",
   "id": "78f6f71d",
   "metadata": {},
   "source": [
    "## Building Decision Tree Regressor"
   ]
  },
  {
   "cell_type": "markdown",
   "id": "0473aea2",
   "metadata": {},
   "source": [
    "####  The Root Node is the initial node which represents the entire sample and may get split further into further nodes."
   ]
  },
  {
   "cell_type": "code",
   "execution_count": 82,
   "id": "cfd73c47",
   "metadata": {},
   "outputs": [
    {
     "name": "stdout",
     "output_type": "stream",
     "text": [
      "R-Squared on train dataset=0.5843936981220916\n"
     ]
    }
   ],
   "source": [
    "dtm = DecisionTreeRegressor(max_depth=4,\n",
    "                           min_samples_split=5,\n",
    "                           max_leaf_nodes=10)\n",
    "\n",
    "dtm.fit(X_train,y_train)\n",
    "print(\"R-Squared on train dataset={}\".format(dtm.score(X_train,y_train)))"
   ]
  },
  {
   "cell_type": "code",
   "execution_count": 83,
   "id": "dbc58d34",
   "metadata": {},
   "outputs": [],
   "source": [
    "y_hat_test2 = dtm.predict(X_train)"
   ]
  },
  {
   "cell_type": "code",
   "execution_count": 84,
   "id": "e13c3f9a",
   "metadata": {},
   "outputs": [
    {
     "data": {
      "image/png": "[encoded data removed]",
      "text/plain": [
       "<Figure size 1800x1200 with 1 Axes>"
      ]
     },
     "metadata": {
      "needs_background": "light"
     },
     "output_type": "display_data"
    }
   ],
   "source": [
    "# Setting dpi = 300 to make image clearer than default\n",
    "fig, axes = plt.subplots(dpi=300)\n",
    "\n",
    "tree.plot_tree(dtm,\n",
    "           filled = True);\n",
    "\n",
    "#save figure in current directory as png\n",
    "fig.savefig('Bike_regression_decisiontree.png')"
   ]
  },
  {
   "cell_type": "markdown",
   "id": "25ac0f76",
   "metadata": {},
   "source": [
    "## Testing of decision tree"
   ]
  },
  {
   "cell_type": "code",
   "execution_count": 85,
   "id": "d493797a",
   "metadata": {},
   "outputs": [],
   "source": [
    "y_dec_test = dtm.predict(X_test)"
   ]
  },
  {
   "cell_type": "code",
   "execution_count": 86,
   "id": "f84b781f",
   "metadata": {},
   "outputs": [
    {
     "data": {
      "text/plain": [
       "22724"
      ]
     },
     "execution_count": 86,
     "metadata": {},
     "output_type": "execute_result"
    }
   ],
   "source": [
    "X_test.size"
   ]
  },
  {
   "cell_type": "code",
   "execution_count": 87,
   "id": "93d6b344",
   "metadata": {},
   "outputs": [
    {
     "data": {
      "text/html": [
       "<div>\n",
       "<style scoped>\n",
       "    .dataframe tbody tr th:only-of-type {\n",
       "        vertical-align: middle;\n",
       "    }\n",
       "\n",
       "    .dataframe tbody tr th {\n",
       "        vertical-align: top;\n",
       "    }\n",
       "\n",
       "    .dataframe thead th {\n",
       "        text-align: right;\n",
       "    }\n",
       "</style>\n",
       "<table border=\"1\" class=\"dataframe\">\n",
       "  <thead>\n",
       "    <tr style=\"text-align: right;\">\n",
       "      <th></th>\n",
       "      <th>Prediction</th>\n",
       "    </tr>\n",
       "  </thead>\n",
       "  <tbody>\n",
       "    <tr>\n",
       "      <th>0</th>\n",
       "      <td>1.137603</td>\n",
       "    </tr>\n",
       "    <tr>\n",
       "      <th>1</th>\n",
       "      <td>1.137603</td>\n",
       "    </tr>\n",
       "    <tr>\n",
       "      <th>2</th>\n",
       "      <td>1.034124</td>\n",
       "    </tr>\n",
       "    <tr>\n",
       "      <th>3</th>\n",
       "      <td>1.234727</td>\n",
       "    </tr>\n",
       "    <tr>\n",
       "      <th>4</th>\n",
       "      <td>1.539944</td>\n",
       "    </tr>\n",
       "  </tbody>\n",
       "</table>\n",
       "</div>"
      ],
      "text/plain": [
       "   Prediction\n",
       "0    1.137603\n",
       "1    1.137603\n",
       "2    1.034124\n",
       "3    1.234727\n",
       "4    1.539944"
      ]
     },
     "execution_count": 87,
     "metadata": {},
     "output_type": "execute_result"
    }
   ],
   "source": [
    "df_pf = pd.DataFrame(np.exp(y_dec_test), columns=['Prediction'])\n",
    "df_pf.head()"
   ]
  },
  {
   "cell_type": "code",
   "execution_count": 88,
   "id": "f748c5a5",
   "metadata": {},
   "outputs": [
    {
     "name": "stdout",
     "output_type": "stream",
     "text": [
      "0.5843936981220916\n",
      "0.08427310362699672\n"
     ]
    }
   ],
   "source": [
    "rf_score=dtm.score(X_train,y_train)\n",
    "rf_rmse2=np.sqrt(mean_squared_error(y_train,y_hat_test2))\n",
    "print(rf_score)\n",
    "print(rf_rmse2)"
   ]
  },
  {
   "cell_type": "markdown",
   "id": "6a1de2c6",
   "metadata": {},
   "source": [
    "## Conclusion:"
   ]
  },
  {
   "cell_type": "markdown",
   "id": "25b6186e",
   "metadata": {},
   "source": [
    "###  Root Mean Square Error (one of the most commonly used measures for evaluating the quality of predictions).\n",
    "* RMSE for linear regression=0.09236693380721986\n",
    "\n",
    "*  RMSE for Random Forest Model=0.0328844682884098\n",
    "\n",
    "* RMSE for decision tree =0.08427310362699673"
   ]
  },
  {
   "cell_type": "markdown",
   "id": "d4bc219f",
   "metadata": {},
   "source": [
    "#### Model which is having lowest RMSE is considered as best model so for prediction we will use  Random Forest Model"
   ]
  }
 ],
 "metadata": {
  "kernelspec": {
   "display_name": "Python 3 (ipykernel)",
   "language": "python",
   "name": "python3"
  },
  "language_info": {
   "codemirror_mode": {
    "name": "ipython",
    "version": 3
   },
   "file_extension": ".py",
   "mimetype": "text/x-python",
   "name": "python",
   "nbconvert_exporter": "python",
   "pygments_lexer": "ipython3",
   "version": "3.9.12"
  }
 },
 "nbformat": 4,
 "nbformat_minor": 5
}
